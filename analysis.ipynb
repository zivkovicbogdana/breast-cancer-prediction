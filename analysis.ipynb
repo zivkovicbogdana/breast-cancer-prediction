{
 "cells": [
  {
   "attachments": {},
   "cell_type": "markdown",
   "metadata": {},
   "source": [
    "## Importing Libraries"
   ]
  },
  {
   "cell_type": "code",
   "execution_count": 1,
   "metadata": {},
   "outputs": [],
   "source": [
    "import pandas as pd\n",
    "from sklearn.model_selection import train_test_split, GridSearchCV\n",
    "from sklearn.preprocessing import MinMaxScaler\n",
    "from sklearn.ensemble import RandomForestClassifier\n",
    "from sklearn.metrics import confusion_matrix, f1_score, accuracy_score, precision_score, recall_score, jaccard_score\n",
    "import plotly.express as px\n",
    "import numpy as np\n",
    "from collections import Counter\n",
    "from matplotlib import pyplot as plt\n",
    "import seaborn as sns\n",
    "from graphviz import Digraph"
   ]
  },
  {
   "attachments": {},
   "cell_type": "markdown",
   "metadata": {},
   "source": [
    "## Loading the Data"
   ]
  },
  {
   "cell_type": "code",
   "execution_count": 2,
   "metadata": {},
   "outputs": [
    {
     "data": {
      "text/html": [
       "<div>\n",
       "<style scoped>\n",
       "    .dataframe tbody tr th:only-of-type {\n",
       "        vertical-align: middle;\n",
       "    }\n",
       "\n",
       "    .dataframe tbody tr th {\n",
       "        vertical-align: top;\n",
       "    }\n",
       "\n",
       "    .dataframe thead th {\n",
       "        text-align: right;\n",
       "    }\n",
       "</style>\n",
       "<table border=\"1\" class=\"dataframe\">\n",
       "  <thead>\n",
       "    <tr style=\"text-align: right;\">\n",
       "      <th></th>\n",
       "      <th>Age</th>\n",
       "      <th>Race</th>\n",
       "      <th>Marital Status</th>\n",
       "      <th>T Stage</th>\n",
       "      <th>N Stage</th>\n",
       "      <th>6th Stage</th>\n",
       "      <th>differentiate</th>\n",
       "      <th>Grade</th>\n",
       "      <th>A Stage</th>\n",
       "      <th>Tumor Size</th>\n",
       "      <th>Estrogen Status</th>\n",
       "      <th>Progesterone Status</th>\n",
       "      <th>Regional Node Examined</th>\n",
       "      <th>Reginol Node Positive</th>\n",
       "      <th>Survival Months</th>\n",
       "      <th>Status</th>\n",
       "    </tr>\n",
       "  </thead>\n",
       "  <tbody>\n",
       "    <tr>\n",
       "      <th>0</th>\n",
       "      <td>68</td>\n",
       "      <td>White</td>\n",
       "      <td>Married</td>\n",
       "      <td>T1</td>\n",
       "      <td>N1</td>\n",
       "      <td>IIA</td>\n",
       "      <td>Poorly differentiated</td>\n",
       "      <td>3</td>\n",
       "      <td>Regional</td>\n",
       "      <td>4</td>\n",
       "      <td>Positive</td>\n",
       "      <td>Positive</td>\n",
       "      <td>24</td>\n",
       "      <td>1</td>\n",
       "      <td>60</td>\n",
       "      <td>Alive</td>\n",
       "    </tr>\n",
       "    <tr>\n",
       "      <th>1</th>\n",
       "      <td>50</td>\n",
       "      <td>White</td>\n",
       "      <td>Married</td>\n",
       "      <td>T2</td>\n",
       "      <td>N2</td>\n",
       "      <td>IIIA</td>\n",
       "      <td>Moderately differentiated</td>\n",
       "      <td>2</td>\n",
       "      <td>Regional</td>\n",
       "      <td>35</td>\n",
       "      <td>Positive</td>\n",
       "      <td>Positive</td>\n",
       "      <td>14</td>\n",
       "      <td>5</td>\n",
       "      <td>62</td>\n",
       "      <td>Alive</td>\n",
       "    </tr>\n",
       "    <tr>\n",
       "      <th>2</th>\n",
       "      <td>58</td>\n",
       "      <td>White</td>\n",
       "      <td>Divorced</td>\n",
       "      <td>T3</td>\n",
       "      <td>N3</td>\n",
       "      <td>IIIC</td>\n",
       "      <td>Moderately differentiated</td>\n",
       "      <td>2</td>\n",
       "      <td>Regional</td>\n",
       "      <td>63</td>\n",
       "      <td>Positive</td>\n",
       "      <td>Positive</td>\n",
       "      <td>14</td>\n",
       "      <td>7</td>\n",
       "      <td>75</td>\n",
       "      <td>Alive</td>\n",
       "    </tr>\n",
       "    <tr>\n",
       "      <th>3</th>\n",
       "      <td>58</td>\n",
       "      <td>White</td>\n",
       "      <td>Married</td>\n",
       "      <td>T1</td>\n",
       "      <td>N1</td>\n",
       "      <td>IIA</td>\n",
       "      <td>Poorly differentiated</td>\n",
       "      <td>3</td>\n",
       "      <td>Regional</td>\n",
       "      <td>18</td>\n",
       "      <td>Positive</td>\n",
       "      <td>Positive</td>\n",
       "      <td>2</td>\n",
       "      <td>1</td>\n",
       "      <td>84</td>\n",
       "      <td>Alive</td>\n",
       "    </tr>\n",
       "    <tr>\n",
       "      <th>4</th>\n",
       "      <td>47</td>\n",
       "      <td>White</td>\n",
       "      <td>Married</td>\n",
       "      <td>T2</td>\n",
       "      <td>N1</td>\n",
       "      <td>IIB</td>\n",
       "      <td>Poorly differentiated</td>\n",
       "      <td>3</td>\n",
       "      <td>Regional</td>\n",
       "      <td>41</td>\n",
       "      <td>Positive</td>\n",
       "      <td>Positive</td>\n",
       "      <td>3</td>\n",
       "      <td>1</td>\n",
       "      <td>50</td>\n",
       "      <td>Alive</td>\n",
       "    </tr>\n",
       "  </tbody>\n",
       "</table>\n",
       "</div>"
      ],
      "text/plain": [
       "   Age   Race Marital Status T Stage  N Stage 6th Stage  \\\n",
       "0   68  White        Married       T1      N1       IIA   \n",
       "1   50  White        Married       T2      N2      IIIA   \n",
       "2   58  White       Divorced       T3      N3      IIIC   \n",
       "3   58  White        Married       T1      N1       IIA   \n",
       "4   47  White        Married       T2      N1       IIB   \n",
       "\n",
       "               differentiate Grade   A Stage  Tumor Size Estrogen Status  \\\n",
       "0      Poorly differentiated     3  Regional           4        Positive   \n",
       "1  Moderately differentiated     2  Regional          35        Positive   \n",
       "2  Moderately differentiated     2  Regional          63        Positive   \n",
       "3      Poorly differentiated     3  Regional          18        Positive   \n",
       "4      Poorly differentiated     3  Regional          41        Positive   \n",
       "\n",
       "  Progesterone Status  Regional Node Examined  Reginol Node Positive  \\\n",
       "0            Positive                      24                      1   \n",
       "1            Positive                      14                      5   \n",
       "2            Positive                      14                      7   \n",
       "3            Positive                       2                      1   \n",
       "4            Positive                       3                      1   \n",
       "\n",
       "   Survival Months Status  \n",
       "0               60  Alive  \n",
       "1               62  Alive  \n",
       "2               75  Alive  \n",
       "3               84  Alive  \n",
       "4               50  Alive  "
      ]
     },
     "execution_count": 2,
     "metadata": {},
     "output_type": "execute_result"
    }
   ],
   "source": [
    "df = pd.read_csv(\"Breast_Cancer.csv\", header=0, delimiter=',')\n",
    "df.head()"
   ]
  },
  {
   "attachments": {},
   "cell_type": "markdown",
   "metadata": {},
   "source": [
    "## Dataset Inspection"
   ]
  },
  {
   "cell_type": "code",
   "execution_count": 3,
   "metadata": {},
   "outputs": [],
   "source": [
    "numerical_cols = ['Age','Tumor Size','Regional Node Examined','Reginol Node Positive','Survival Months']\n",
    "categorical_cols = ['Race','Marital Status','T Stage ','N Stage','6th Stage','differentiate','Grade','A Stage','Estrogen Status','Progesterone Status']"
   ]
  },
  {
   "cell_type": "code",
   "execution_count": 4,
   "metadata": {},
   "outputs": [
    {
     "data": {
      "image/png": "[encoded data removed]",
      "text/plain": [
       "<Figure size 1600x1400 with 16 Axes>"
      ]
     },
     "metadata": {},
     "output_type": "display_data"
    }
   ],
   "source": [
    "fig, axes = plt.subplots(4,4,figsize=(16,14))\n",
    "\n",
    "for i, c in enumerate(df.columns):\n",
    "    ax = axes.reshape(-1)[i]\n",
    "    if c in categorical_cols:\n",
    "        ct = pd.crosstab(index=df[c], columns=df['Status'])\n",
    "        a = ct.plot(kind='bar', stacked=True,ax=ax)\n",
    "    else: \n",
    "        sns.histplot(x=c,data=df, hue='Status',ax=ax, multiple='stack')\n",
    "plt.tight_layout()"
   ]
  },
  {
   "cell_type": "code",
   "execution_count": 5,
   "metadata": {},
   "outputs": [
    {
     "data": {
      "text/plain": [
       "<Axes: >"
      ]
     },
     "execution_count": 5,
     "metadata": {},
     "output_type": "execute_result"
    },
    {
     "data": {
      "image/png": "[encoded data removed]",
      "text/plain": [
       "<Figure size 1400x800 with 1 Axes>"
      ]
     },
     "metadata": {},
     "output_type": "display_data"
    }
   ],
   "source": [
    "df.loc[:,numerical_cols].boxplot(figsize=(14,8))"
   ]
  },
  {
   "attachments": {},
   "cell_type": "markdown",
   "metadata": {},
   "source": [
    "## Transformations"
   ]
  },
  {
   "cell_type": "code",
   "execution_count": 6,
   "metadata": {},
   "outputs": [
    {
     "data": {
      "text/plain": [
       "<Axes: ylabel='Frequency'>"
      ]
     },
     "execution_count": 6,
     "metadata": {},
     "output_type": "execute_result"
    },
    {
     "data": {
      "image/png": "[encoded data removed]",
      "text/plain": [
       "<Figure size 640x480 with 1 Axes>"
      ]
     },
     "metadata": {},
     "output_type": "display_data"
    }
   ],
   "source": [
    "df['Regional Node Examined'] = df['Regional Node Examined'].apply('log')\n",
    "df['Regional Node Examined'].plot.hist()\n"
   ]
  },
  {
   "cell_type": "code",
   "execution_count": 7,
   "metadata": {},
   "outputs": [
    {
     "data": {
      "text/plain": [
       "<Axes: ylabel='Frequency'>"
      ]
     },
     "execution_count": 7,
     "metadata": {},
     "output_type": "execute_result"
    },
    {
     "data": {
      "image/png": "[encoded data removed]",
      "text/plain": [
       "<Figure size 640x480 with 1 Axes>"
      ]
     },
     "metadata": {},
     "output_type": "display_data"
    }
   ],
   "source": [
    "df['Tumor Size'] = df['Tumor Size'].apply('log')\n",
    "df['Tumor Size'].plot.hist()"
   ]
  },
  {
   "attachments": {},
   "cell_type": "markdown",
   "metadata": {},
   "source": [
    "## Train Test Split"
   ]
  },
  {
   "cell_type": "code",
   "execution_count": 8,
   "metadata": {},
   "outputs": [],
   "source": [
    "X = df.loc[:,df.columns != 'Status']\n",
    "y = df['Status']\n",
    "\n",
    "X_train, X_test, y_train, y_test = train_test_split(X, y, test_size=0.2, stratify=y, random_state=42)\n",
    "\n",
    "X_train, X_val, y_train, y_val = train_test_split(X_train, y_train, test_size=0.2, stratify=y_train, random_state=42)\n"
   ]
  },
  {
   "attachments": {},
   "cell_type": "markdown",
   "metadata": {},
   "source": [
    "## Outlier Detection"
   ]
  },
  {
   "cell_type": "code",
   "execution_count": 9,
   "metadata": {},
   "outputs": [
    {
     "data": {
      "text/plain": [
       "<Axes: ylabel='Frequency'>"
      ]
     },
     "execution_count": 9,
     "metadata": {},
     "output_type": "execute_result"
    },
    {
     "data": {
      "image/png": "[encoded data removed]",
      "text/plain": [
       "<Figure size 640x480 with 1 Axes>"
      ]
     },
     "metadata": {},
     "output_type": "display_data"
    }
   ],
   "source": [
    "# Calculate the IQR range\n",
    "Q1 = X_train['Tumor Size'].quantile(0.25)\n",
    "Q3 = X_train['Tumor Size'].quantile(0.75)\n",
    "IQR = Q3 - Q1\n",
    "\n",
    "# Define the lower and upper bounds for outliers\n",
    "lower_bound = Q1 - 1.5 * IQR\n",
    "upper_bound = Q3 + 1.5 * IQR\n",
    "\n",
    "# Detect outliers for 'Tumor Size'\n",
    "outliers_tumor_size = (X_train['Tumor Size'] < lower_bound) | (X_train['Tumor Size'] > upper_bound)\n",
    "\n",
    "# Remove outliers from 'Tumor Size'\n",
    "X_train = X_train[~outliers_tumor_size]\n",
    "y_train = y_train[~outliers_tumor_size]\n",
    "\n",
    "X_train['Tumor Size'].plot.hist()"
   ]
  },
  {
   "cell_type": "code",
   "execution_count": 10,
   "metadata": {},
   "outputs": [
    {
     "data": {
      "text/plain": [
       "<Axes: ylabel='Frequency'>"
      ]
     },
     "execution_count": 10,
     "metadata": {},
     "output_type": "execute_result"
    },
    {
     "data": {
      "image/png": "[encoded data removed]",
      "text/plain": [
       "<Figure size 640x480 with 1 Axes>"
      ]
     },
     "metadata": {},
     "output_type": "display_data"
    }
   ],
   "source": [
    "# Calculate the IQR range\n",
    "Q1 = X_train['Regional Node Examined'].quantile(0.25)\n",
    "Q3 = X_train['Regional Node Examined'].quantile(0.75)\n",
    "IQR = Q3 - Q1\n",
    "\n",
    "# Define the lower and upper bounds for outliers\n",
    "lower_bound = Q1 - 1.5 * IQR\n",
    "upper_bound = Q3 + 1.5 * IQR\n",
    "\n",
    "# Detect outliers for 'Regional Node Examined'\n",
    "outliers_regional_node = (X_train['Regional Node Examined'] < lower_bound) | (X_train['Regional Node Examined'] > upper_bound)\n",
    "\n",
    "# Remove outliers from 'Regional Node Examined'\n",
    "X_train = X_train[~outliers_regional_node]\n",
    "y_train = y_train[~outliers_regional_node]\n",
    "\n",
    "df['Regional Node Examined'].plot.hist()"
   ]
  },
  {
   "attachments": {},
   "cell_type": "markdown",
   "metadata": {},
   "source": [
    "## Preprocessing"
   ]
  },
  {
   "cell_type": "code",
   "execution_count": 11,
   "metadata": {},
   "outputs": [
    {
     "data": {
      "text/html": [
       "<div>\n",
       "<style scoped>\n",
       "    .dataframe tbody tr th:only-of-type {\n",
       "        vertical-align: middle;\n",
       "    }\n",
       "\n",
       "    .dataframe tbody tr th {\n",
       "        vertical-align: top;\n",
       "    }\n",
       "\n",
       "    .dataframe thead th {\n",
       "        text-align: right;\n",
       "    }\n",
       "</style>\n",
       "<table border=\"1\" class=\"dataframe\">\n",
       "  <thead>\n",
       "    <tr style=\"text-align: right;\">\n",
       "      <th></th>\n",
       "      <th>Age</th>\n",
       "      <th>Tumor Size</th>\n",
       "      <th>Regional Node Examined</th>\n",
       "      <th>Reginol Node Positive</th>\n",
       "      <th>Survival Months</th>\n",
       "      <th>Race_Black</th>\n",
       "      <th>Race_Other</th>\n",
       "      <th>Race_White</th>\n",
       "      <th>Marital Status_Divorced</th>\n",
       "      <th>Marital Status_Married</th>\n",
       "      <th>...</th>\n",
       "      <th>Grade_ anaplastic; Grade IV</th>\n",
       "      <th>Grade_1</th>\n",
       "      <th>Grade_2</th>\n",
       "      <th>Grade_3</th>\n",
       "      <th>A Stage_Distant</th>\n",
       "      <th>A Stage_Regional</th>\n",
       "      <th>Estrogen Status_Negative</th>\n",
       "      <th>Estrogen Status_Positive</th>\n",
       "      <th>Progesterone Status_Negative</th>\n",
       "      <th>Progesterone Status_Positive</th>\n",
       "    </tr>\n",
       "  </thead>\n",
       "  <tbody>\n",
       "    <tr>\n",
       "      <th>844</th>\n",
       "      <td>0.794872</td>\n",
       "      <td>0.393154</td>\n",
       "      <td>0.479625</td>\n",
       "      <td>0.000000</td>\n",
       "      <td>0.924528</td>\n",
       "      <td>0</td>\n",
       "      <td>1</td>\n",
       "      <td>0</td>\n",
       "      <td>1</td>\n",
       "      <td>0</td>\n",
       "      <td>...</td>\n",
       "      <td>0</td>\n",
       "      <td>0</td>\n",
       "      <td>1</td>\n",
       "      <td>0</td>\n",
       "      <td>0</td>\n",
       "      <td>1</td>\n",
       "      <td>0</td>\n",
       "      <td>1</td>\n",
       "      <td>0</td>\n",
       "      <td>1</td>\n",
       "    </tr>\n",
       "    <tr>\n",
       "      <th>1993</th>\n",
       "      <td>0.256410</td>\n",
       "      <td>0.375611</td>\n",
       "      <td>0.293145</td>\n",
       "      <td>0.000000</td>\n",
       "      <td>0.471698</td>\n",
       "      <td>0</td>\n",
       "      <td>0</td>\n",
       "      <td>1</td>\n",
       "      <td>0</td>\n",
       "      <td>1</td>\n",
       "      <td>...</td>\n",
       "      <td>0</td>\n",
       "      <td>0</td>\n",
       "      <td>1</td>\n",
       "      <td>0</td>\n",
       "      <td>0</td>\n",
       "      <td>1</td>\n",
       "      <td>0</td>\n",
       "      <td>1</td>\n",
       "      <td>0</td>\n",
       "      <td>1</td>\n",
       "    </tr>\n",
       "    <tr>\n",
       "      <th>270</th>\n",
       "      <td>0.102564</td>\n",
       "      <td>0.762687</td>\n",
       "      <td>0.507318</td>\n",
       "      <td>0.177778</td>\n",
       "      <td>0.367925</td>\n",
       "      <td>0</td>\n",
       "      <td>0</td>\n",
       "      <td>1</td>\n",
       "      <td>0</td>\n",
       "      <td>1</td>\n",
       "      <td>...</td>\n",
       "      <td>0</td>\n",
       "      <td>0</td>\n",
       "      <td>1</td>\n",
       "      <td>0</td>\n",
       "      <td>1</td>\n",
       "      <td>0</td>\n",
       "      <td>0</td>\n",
       "      <td>1</td>\n",
       "      <td>0</td>\n",
       "      <td>1</td>\n",
       "    </tr>\n",
       "    <tr>\n",
       "      <th>1359</th>\n",
       "      <td>0.076923</td>\n",
       "      <td>0.268706</td>\n",
       "      <td>0.507318</td>\n",
       "      <td>0.022222</td>\n",
       "      <td>0.698113</td>\n",
       "      <td>0</td>\n",
       "      <td>0</td>\n",
       "      <td>1</td>\n",
       "      <td>0</td>\n",
       "      <td>1</td>\n",
       "      <td>...</td>\n",
       "      <td>0</td>\n",
       "      <td>1</td>\n",
       "      <td>0</td>\n",
       "      <td>0</td>\n",
       "      <td>0</td>\n",
       "      <td>1</td>\n",
       "      <td>0</td>\n",
       "      <td>1</td>\n",
       "      <td>0</td>\n",
       "      <td>1</td>\n",
       "    </tr>\n",
       "    <tr>\n",
       "      <th>2157</th>\n",
       "      <td>0.410256</td>\n",
       "      <td>0.831176</td>\n",
       "      <td>0.449521</td>\n",
       "      <td>0.022222</td>\n",
       "      <td>0.481132</td>\n",
       "      <td>0</td>\n",
       "      <td>0</td>\n",
       "      <td>1</td>\n",
       "      <td>0</td>\n",
       "      <td>1</td>\n",
       "      <td>...</td>\n",
       "      <td>0</td>\n",
       "      <td>0</td>\n",
       "      <td>1</td>\n",
       "      <td>0</td>\n",
       "      <td>0</td>\n",
       "      <td>1</td>\n",
       "      <td>0</td>\n",
       "      <td>1</td>\n",
       "      <td>0</td>\n",
       "      <td>1</td>\n",
       "    </tr>\n",
       "  </tbody>\n",
       "</table>\n",
       "<p>5 rows × 39 columns</p>\n",
       "</div>"
      ],
      "text/plain": [
       "           Age  Tumor Size  Regional Node Examined  Reginol Node Positive  \\\n",
       "844   0.794872    0.393154                0.479625               0.000000   \n",
       "1993  0.256410    0.375611                0.293145               0.000000   \n",
       "270   0.102564    0.762687                0.507318               0.177778   \n",
       "1359  0.076923    0.268706                0.507318               0.022222   \n",
       "2157  0.410256    0.831176                0.449521               0.022222   \n",
       "\n",
       "      Survival Months  Race_Black  Race_Other  Race_White  \\\n",
       "844          0.924528           0           1           0   \n",
       "1993         0.471698           0           0           1   \n",
       "270          0.367925           0           0           1   \n",
       "1359         0.698113           0           0           1   \n",
       "2157         0.481132           0           0           1   \n",
       "\n",
       "      Marital Status_Divorced  Marital Status_Married  ...  \\\n",
       "844                         1                       0  ...   \n",
       "1993                        0                       1  ...   \n",
       "270                         0                       1  ...   \n",
       "1359                        0                       1  ...   \n",
       "2157                        0                       1  ...   \n",
       "\n",
       "      Grade_ anaplastic; Grade IV  Grade_1  Grade_2  Grade_3  A Stage_Distant  \\\n",
       "844                             0        0        1        0                0   \n",
       "1993                            0        0        1        0                0   \n",
       "270                             0        0        1        0                1   \n",
       "1359                            0        1        0        0                0   \n",
       "2157                            0        0        1        0                0   \n",
       "\n",
       "      A Stage_Regional  Estrogen Status_Negative  Estrogen Status_Positive  \\\n",
       "844                  1                         0                         1   \n",
       "1993                 1                         0                         1   \n",
       "270                  0                         0                         1   \n",
       "1359                 1                         0                         1   \n",
       "2157                 1                         0                         1   \n",
       "\n",
       "      Progesterone Status_Negative  Progesterone Status_Positive  \n",
       "844                              0                             1  \n",
       "1993                             0                             1  \n",
       "270                              0                             1  \n",
       "1359                             0                             1  \n",
       "2157                             0                             1  \n",
       "\n",
       "[5 rows x 39 columns]"
      ]
     },
     "execution_count": 11,
     "metadata": {},
     "output_type": "execute_result"
    }
   ],
   "source": [
    "def preprocessing(X, y, scaler=None):\n",
    "    # We scale all the columns\n",
    "    if scaler is None: \n",
    "        # We only want the scaler to fit the train data\n",
    "        scaler = MinMaxScaler()\n",
    "        X[numerical_cols] = scaler.fit_transform(X[numerical_cols])\n",
    "    else: \n",
    "        X[numerical_cols] = scaler.transform(X[numerical_cols])\n",
    "    # One Hot Encoding\n",
    "    X = pd.get_dummies(X, columns = categorical_cols)\n",
    "    # Encode output\n",
    "    status_map = {'Dead': 1, 'Alive': 0}\n",
    "    y = y.map(status_map)\n",
    "    y = y.rename('Dead')\n",
    "    return X, y, scaler\n",
    "\n",
    "X_train, y_train, scaler = preprocessing(X_train,y_train)\n",
    "X_val, y_val, _ = preprocessing(X_val, y_val, scaler)\n",
    "X_test, y_test, _ = preprocessing(X_test,y_test,scaler)\n",
    "X_train.head()"
   ]
  },
  {
   "attachments": {},
   "cell_type": "markdown",
   "metadata": {},
   "source": [
    "## Data Balancing"
   ]
  },
  {
   "cell_type": "code",
   "execution_count": 12,
   "metadata": {},
   "outputs": [
    {
     "name": "stdout",
     "output_type": "stream",
     "text": [
      "Original dataset shape: Counter({0: 2006, 1: 368})\n"
     ]
    }
   ],
   "source": [
    "print('Original dataset shape:', Counter(y_train))"
   ]
  },
  {
   "cell_type": "code",
   "execution_count": 13,
   "metadata": {},
   "outputs": [
    {
     "name": "stdout",
     "output_type": "stream",
     "text": [
      "Resampled dataset shape: Counter({1: 1650, 0: 1339})\n"
     ]
    }
   ],
   "source": [
    "from imblearn.combine import SMOTEENN\n",
    "\n",
    "# Apply SMOTEENN for combined oversampling and undersampling\n",
    "smote_enn = SMOTEENN(sampling_strategy='minority')\n",
    "X_train, y_train = smote_enn.fit_resample(X_train, y_train)\n",
    "\n",
    "print('Resampled dataset shape:', Counter(y_train))\n"
   ]
  },
  {
   "attachments": {},
   "cell_type": "markdown",
   "metadata": {},
   "source": [
    "## Support Functions"
   ]
  },
  {
   "cell_type": "code",
   "execution_count": 14,
   "metadata": {},
   "outputs": [],
   "source": [
    "results_df = pd.DataFrame(index=[], columns= ['**Recall class 1**', '**F1 class 1**','Accuracy', 'F1 Macro', 'Precision Macro', 'Recall Macro'])"
   ]
  },
  {
   "cell_type": "code",
   "execution_count": 15,
   "metadata": {},
   "outputs": [],
   "source": [
    "def compute_metrics(y_real,y_pred):\n",
    "    recall_class_1 =recall_score(y_real,y_pred, pos_label=1)\n",
    "    f1_class_1 =f1_score(y_real,y_pred, pos_label=1)\n",
    "    accuracy = accuracy_score(y_real,y_pred)\n",
    "    f1_macro =f1_score(y_real,y_pred, average='macro')\n",
    "    precison_macro =precision_score(y_real,y_pred,  average='macro')\n",
    "    recall_macro =recall_score(y_real,y_pred,  average='macro')\n",
    "    return [recall_class_1, f1_class_1, accuracy,f1_macro,precison_macro,recall_macro ]\n",
    "\n",
    "def confusion(true, pred):\n",
    "    \"\"\"\n",
    "    Function for pretty printing confusion matrices\n",
    "    \"\"\"\n",
    "    pred = pd.Series(pred)\n",
    "    true = pd.Series(true)\n",
    "    \n",
    "    true.name = 'target'\n",
    "    pred.name = 'predicted'\n",
    "    cm = pd.crosstab(true.reset_index(drop=True), pred.reset_index(drop=True))\n",
    "    cm = cm[cm.index]\n",
    "    return cm"
   ]
  },
  {
   "attachments": {},
   "cell_type": "markdown",
   "metadata": {},
   "source": [
    "## LDA"
   ]
  },
  {
   "cell_type": "code",
   "execution_count": 16,
   "metadata": {},
   "outputs": [
    {
     "data": {
      "text/html": [
       "<div>\n",
       "<style scoped>\n",
       "    .dataframe tbody tr th:only-of-type {\n",
       "        vertical-align: middle;\n",
       "    }\n",
       "\n",
       "    .dataframe tbody tr th {\n",
       "        vertical-align: top;\n",
       "    }\n",
       "\n",
       "    .dataframe thead th {\n",
       "        text-align: right;\n",
       "    }\n",
       "</style>\n",
       "<table border=\"1\" class=\"dataframe\">\n",
       "  <thead>\n",
       "    <tr style=\"text-align: right;\">\n",
       "      <th></th>\n",
       "      <th>**Recall class 1**</th>\n",
       "      <th>**F1 class 1**</th>\n",
       "      <th>Accuracy</th>\n",
       "      <th>F1 Macro</th>\n",
       "      <th>Precision Macro</th>\n",
       "      <th>Recall Macro</th>\n",
       "    </tr>\n",
       "  </thead>\n",
       "  <tbody>\n",
       "    <tr>\n",
       "      <th>LDA</th>\n",
       "      <td>0.676768</td>\n",
       "      <td>0.538153</td>\n",
       "      <td>0.821429</td>\n",
       "      <td>0.713735</td>\n",
       "      <td>0.690945</td>\n",
       "      <td>0.762237</td>\n",
       "    </tr>\n",
       "  </tbody>\n",
       "</table>\n",
       "</div>"
      ],
      "text/plain": [
       "    **Recall class 1** **F1 class 1**  Accuracy  F1 Macro Precision Macro  \\\n",
       "LDA           0.676768       0.538153  0.821429  0.713735        0.690945   \n",
       "\n",
       "    Recall Macro  \n",
       "LDA     0.762237  "
      ]
     },
     "execution_count": 16,
     "metadata": {},
     "output_type": "execute_result"
    }
   ],
   "source": [
    "from sklearn.discriminant_analysis import LinearDiscriminantAnalysis\n",
    "\n",
    "lda_model = LinearDiscriminantAnalysis()\n",
    "lda_model.fit(X_train, y_train)\n",
    "y_pred_lda = lda_model.predict(X_val)\n",
    "results_df.loc['LDA',:] = compute_metrics(y_val, y_pred_lda)\n",
    "results_df"
   ]
  },
  {
   "cell_type": "code",
   "execution_count": 17,
   "metadata": {},
   "outputs": [
    {
     "data": {
      "text/html": [
       "<div>\n",
       "<style scoped>\n",
       "    .dataframe tbody tr th:only-of-type {\n",
       "        vertical-align: middle;\n",
       "    }\n",
       "\n",
       "    .dataframe tbody tr th {\n",
       "        vertical-align: top;\n",
       "    }\n",
       "\n",
       "    .dataframe thead th {\n",
       "        text-align: right;\n",
       "    }\n",
       "</style>\n",
       "<table border=\"1\" class=\"dataframe\">\n",
       "  <thead>\n",
       "    <tr style=\"text-align: right;\">\n",
       "      <th>predicted</th>\n",
       "      <th>0</th>\n",
       "      <th>1</th>\n",
       "    </tr>\n",
       "    <tr>\n",
       "      <th>target</th>\n",
       "      <th></th>\n",
       "      <th></th>\n",
       "    </tr>\n",
       "  </thead>\n",
       "  <tbody>\n",
       "    <tr>\n",
       "      <th>0</th>\n",
       "      <td>462</td>\n",
       "      <td>83</td>\n",
       "    </tr>\n",
       "    <tr>\n",
       "      <th>1</th>\n",
       "      <td>32</td>\n",
       "      <td>67</td>\n",
       "    </tr>\n",
       "  </tbody>\n",
       "</table>\n",
       "</div>"
      ],
      "text/plain": [
       "predicted    0   1\n",
       "target            \n",
       "0          462  83\n",
       "1           32  67"
      ]
     },
     "execution_count": 17,
     "metadata": {},
     "output_type": "execute_result"
    }
   ],
   "source": [
    "# Confusion matrix\n",
    "confusion(y_val, y_pred_lda)"
   ]
  },
  {
   "cell_type": "code",
   "execution_count": 18,
   "metadata": {},
   "outputs": [
    {
     "data": {
      "text/html": [
       "<div>\n",
       "<style scoped>\n",
       "    .dataframe tbody tr th:only-of-type {\n",
       "        vertical-align: middle;\n",
       "    }\n",
       "\n",
       "    .dataframe tbody tr th {\n",
       "        vertical-align: top;\n",
       "    }\n",
       "\n",
       "    .dataframe thead th {\n",
       "        text-align: right;\n",
       "    }\n",
       "</style>\n",
       "<table border=\"1\" class=\"dataframe\">\n",
       "  <thead>\n",
       "    <tr style=\"text-align: right;\">\n",
       "      <th></th>\n",
       "      <th>0</th>\n",
       "      <th>labels</th>\n",
       "    </tr>\n",
       "  </thead>\n",
       "  <tbody>\n",
       "    <tr>\n",
       "      <th>0</th>\n",
       "      <td>-1.806689</td>\n",
       "      <td>0</td>\n",
       "    </tr>\n",
       "    <tr>\n",
       "      <th>1</th>\n",
       "      <td>-0.755891</td>\n",
       "      <td>0</td>\n",
       "    </tr>\n",
       "    <tr>\n",
       "      <th>2</th>\n",
       "      <td>-2.646192</td>\n",
       "      <td>0</td>\n",
       "    </tr>\n",
       "    <tr>\n",
       "      <th>3</th>\n",
       "      <td>-0.914428</td>\n",
       "      <td>0</td>\n",
       "    </tr>\n",
       "    <tr>\n",
       "      <th>4</th>\n",
       "      <td>-1.508127</td>\n",
       "      <td>0</td>\n",
       "    </tr>\n",
       "    <tr>\n",
       "      <th>...</th>\n",
       "      <td>...</td>\n",
       "      <td>...</td>\n",
       "    </tr>\n",
       "    <tr>\n",
       "      <th>2984</th>\n",
       "      <td>-0.013372</td>\n",
       "      <td>1</td>\n",
       "    </tr>\n",
       "    <tr>\n",
       "      <th>2985</th>\n",
       "      <td>1.842623</td>\n",
       "      <td>1</td>\n",
       "    </tr>\n",
       "    <tr>\n",
       "      <th>2986</th>\n",
       "      <td>-1.370041</td>\n",
       "      <td>1</td>\n",
       "    </tr>\n",
       "    <tr>\n",
       "      <th>2987</th>\n",
       "      <td>2.538611</td>\n",
       "      <td>1</td>\n",
       "    </tr>\n",
       "    <tr>\n",
       "      <th>2988</th>\n",
       "      <td>1.077217</td>\n",
       "      <td>1</td>\n",
       "    </tr>\n",
       "  </tbody>\n",
       "</table>\n",
       "<p>2989 rows × 2 columns</p>\n",
       "</div>"
      ],
      "text/plain": [
       "             0  labels\n",
       "0    -1.806689       0\n",
       "1    -0.755891       0\n",
       "2    -2.646192       0\n",
       "3    -0.914428       0\n",
       "4    -1.508127       0\n",
       "...        ...     ...\n",
       "2984 -0.013372       1\n",
       "2985  1.842623       1\n",
       "2986 -1.370041       1\n",
       "2987  2.538611       1\n",
       "2988  1.077217       1\n",
       "\n",
       "[2989 rows x 2 columns]"
      ]
     },
     "execution_count": 18,
     "metadata": {},
     "output_type": "execute_result"
    }
   ],
   "source": [
    "# Exploring LDA\n",
    "X_transformed = lda_model.transform(X_train)\n",
    "\n",
    "X_transformed = pd.DataFrame(X_transformed)\n",
    "X_transformed['labels'] = y_train.reset_index(drop=True)\n",
    "X_transformed"
   ]
  },
  {
   "cell_type": "code",
   "execution_count": 19,
   "metadata": {},
   "outputs": [
    {
     "data": {
      "text/plain": [
       "<Axes: xlabel='0'>"
      ]
     },
     "execution_count": 19,
     "metadata": {},
     "output_type": "execute_result"
    },
    {
     "data": {
      "image/png": "[encoded data removed]",
      "text/plain": [
       "<Figure size 640x480 with 1 Axes>"
      ]
     },
     "metadata": {},
     "output_type": "display_data"
    }
   ],
   "source": [
    "sns.scatterplot(x= 0, y= 1, data = X_transformed, hue='labels')"
   ]
  },
  {
   "attachments": {},
   "cell_type": "markdown",
   "metadata": {},
   "source": [
    "## KNN"
   ]
  },
  {
   "cell_type": "code",
   "execution_count": 20,
   "metadata": {},
   "outputs": [
    {
     "name": "stdout",
     "output_type": "stream",
     "text": [
      "         **Recall class 1** **F1 class 1**  Accuracy  F1 Macro  \\\n",
      "model k                                                          \n",
      "KNN   15           0.757576       0.432277  0.694099  0.611462   \n",
      "      41           0.737374       0.430678  0.700311  0.613653   \n",
      "      39           0.737374       0.429412  0.698758  0.612385   \n",
      "      43           0.737374       0.426901  0.695652  0.609856   \n",
      "      7            0.727273       0.421053  0.692547  0.605875   \n",
      "      13           0.727273       0.421053  0.692547  0.605875   \n",
      "      45           0.727273       0.422287  0.694099  0.607131   \n",
      "      47           0.727273       0.417391  0.687888  0.602121   \n",
      "      23           0.717172       0.420118  0.695652  0.606901   \n",
      "      37           0.717172       0.434251  0.712733  0.620871   \n",
      "      35           0.717172       0.438272  0.717391  0.624737   \n",
      "      25           0.717172       0.438272  0.717391  0.624737   \n",
      "      11           0.717172       0.422619  0.698758  0.609419   \n",
      "      9            0.717172        0.42515  0.701863  0.611946   \n",
      "      5            0.717172       0.417647  0.692547  0.604393   \n",
      "      21           0.717172       0.411594  0.684783  0.598162   \n",
      "      17           0.707071       0.416667  0.695652  0.605392   \n",
      "      33           0.707071       0.432099  0.714286  0.620614   \n",
      "      27            0.69697        0.43125  0.717391  0.621617   \n",
      "      29            0.69697        0.43125  0.717391  0.621617   \n",
      "      31            0.69697       0.425926   0.71118   0.61649   \n",
      "      49           0.686869       0.393064  0.673913  0.585067   \n",
      "      19           0.686869        0.40597  0.690994  0.598578   \n",
      "      3            0.666667       0.407407  0.701863  0.604119   \n",
      "      1            0.656566       0.414013  0.714286  0.612551   \n",
      "\n",
      "         Precision Macro Recall Macro  \n",
      "model k                                \n",
      "KNN   15        0.620907     0.720072  \n",
      "      41        0.619905     0.715476  \n",
      "      39        0.619194     0.714558  \n",
      "      43        0.617787     0.712724  \n",
      "      7         0.614482     0.706756  \n",
      "      13        0.614482     0.706756  \n",
      "      45        0.615178     0.707673  \n",
      "      47        0.612422     0.704003  \n",
      "      23        0.613968     0.704457  \n",
      "      37        0.622048     0.714549  \n",
      "      35        0.624365     0.717301  \n",
      "      25        0.624365     0.717301  \n",
      "      11        0.615391     0.706292  \n",
      "      9         0.616834     0.708127  \n",
      "      5         0.612563     0.702623  \n",
      "      21        0.609133     0.698035  \n",
      "      17        0.612053     0.700324  \n",
      "      33        0.620949     0.711334  \n",
      "      27        0.620648     0.709035  \n",
      "      29        0.620648     0.709035  \n",
      "      31        0.617534     0.705366  \n",
      "      49        0.598609     0.679214  \n",
      "      19        0.606078     0.689306  \n",
      "      3         0.607287     0.687462  \n",
      "      1         0.611536     0.690668  \n"
     ]
    }
   ],
   "source": [
    "from sklearn.neighbors import KNeighborsClassifier\n",
    "\n",
    "\n",
    "index= pd.MultiIndex.from_arrays([[], []], names=('model', 'k'))\n",
    "results_knn = pd.DataFrame(index=index, columns= ['**Recall class 1**', '**F1 class 1**','Accuracy', 'F1 Macro', 'Precision Macro', 'Recall Macro'])\n",
    "\n",
    "k_values = range(1,50,2)\n",
    "\n",
    "for k in k_values:\n",
    "    knn = KNeighborsClassifier(n_neighbors=k, metric='minkowski')\n",
    "    knn = knn.fit(X_train,y_train)\n",
    "    y_pred = knn.predict(X_val)\n",
    "    results_knn.loc[('KNN',k), :] = compute_metrics(y_val, y_pred)\n",
    "\n",
    "sorted_results_knn = results_knn.sort_values(by='**Recall class 1**', ascending=False)\n",
    "print(sorted_results_knn)"
   ]
  },
  {
   "cell_type": "code",
   "execution_count": 21,
   "metadata": {},
   "outputs": [
    {
     "name": "stdout",
     "output_type": "stream",
     "text": [
      "k value of the first row: 15\n"
     ]
    },
    {
     "data": {
      "text/html": [
       "<div>\n",
       "<style scoped>\n",
       "    .dataframe tbody tr th:only-of-type {\n",
       "        vertical-align: middle;\n",
       "    }\n",
       "\n",
       "    .dataframe tbody tr th {\n",
       "        vertical-align: top;\n",
       "    }\n",
       "\n",
       "    .dataframe thead th {\n",
       "        text-align: right;\n",
       "    }\n",
       "</style>\n",
       "<table border=\"1\" class=\"dataframe\">\n",
       "  <thead>\n",
       "    <tr style=\"text-align: right;\">\n",
       "      <th></th>\n",
       "      <th>**Recall class 1**</th>\n",
       "      <th>**F1 class 1**</th>\n",
       "      <th>Accuracy</th>\n",
       "      <th>F1 Macro</th>\n",
       "      <th>Precision Macro</th>\n",
       "      <th>Recall Macro</th>\n",
       "    </tr>\n",
       "  </thead>\n",
       "  <tbody>\n",
       "    <tr>\n",
       "      <th>KNN-15</th>\n",
       "      <td>0.757576</td>\n",
       "      <td>0.432277</td>\n",
       "      <td>0.694099</td>\n",
       "      <td>0.611462</td>\n",
       "      <td>0.620907</td>\n",
       "      <td>0.720072</td>\n",
       "    </tr>\n",
       "    <tr>\n",
       "      <th>LDA</th>\n",
       "      <td>0.676768</td>\n",
       "      <td>0.538153</td>\n",
       "      <td>0.821429</td>\n",
       "      <td>0.713735</td>\n",
       "      <td>0.690945</td>\n",
       "      <td>0.762237</td>\n",
       "    </tr>\n",
       "  </tbody>\n",
       "</table>\n",
       "</div>"
      ],
      "text/plain": [
       "       **Recall class 1** **F1 class 1**  Accuracy  F1 Macro Precision Macro  \\\n",
       "KNN-15           0.757576       0.432277  0.694099  0.611462        0.620907   \n",
       "LDA              0.676768       0.538153  0.821429  0.713735        0.690945   \n",
       "\n",
       "       Recall Macro  \n",
       "KNN-15     0.720072  \n",
       "LDA        0.762237  "
      ]
     },
     "execution_count": 21,
     "metadata": {},
     "output_type": "execute_result"
    }
   ],
   "source": [
    "\n",
    "# Retrieve the k value of the first row\n",
    "first_row = sorted_results_knn.iloc[0]\n",
    "k_value = first_row.name[1]\n",
    "\n",
    "print(\"k value of the first row:\", k_value)\n",
    "\n",
    "knn = KNeighborsClassifier(n_neighbors=k_value)\n",
    "knn = knn.fit(X_train,y_train)\n",
    "y_pred_knn = knn.predict(X_val)\n",
    "results_df.loc['KNN-'+str(k_value), :] = compute_metrics(y_val, y_pred_knn)\n",
    "results_df.sort_values(by='**Recall class 1**', ascending=False)"
   ]
  },
  {
   "cell_type": "code",
   "execution_count": 22,
   "metadata": {},
   "outputs": [
    {
     "data": {
      "text/html": [
       "<div>\n",
       "<style scoped>\n",
       "    .dataframe tbody tr th:only-of-type {\n",
       "        vertical-align: middle;\n",
       "    }\n",
       "\n",
       "    .dataframe tbody tr th {\n",
       "        vertical-align: top;\n",
       "    }\n",
       "\n",
       "    .dataframe thead th {\n",
       "        text-align: right;\n",
       "    }\n",
       "</style>\n",
       "<table border=\"1\" class=\"dataframe\">\n",
       "  <thead>\n",
       "    <tr style=\"text-align: right;\">\n",
       "      <th>predicted</th>\n",
       "      <th>0</th>\n",
       "      <th>1</th>\n",
       "    </tr>\n",
       "    <tr>\n",
       "      <th>target</th>\n",
       "      <th></th>\n",
       "      <th></th>\n",
       "    </tr>\n",
       "  </thead>\n",
       "  <tbody>\n",
       "    <tr>\n",
       "      <th>0</th>\n",
       "      <td>372</td>\n",
       "      <td>173</td>\n",
       "    </tr>\n",
       "    <tr>\n",
       "      <th>1</th>\n",
       "      <td>24</td>\n",
       "      <td>75</td>\n",
       "    </tr>\n",
       "  </tbody>\n",
       "</table>\n",
       "</div>"
      ],
      "text/plain": [
       "predicted    0    1\n",
       "target             \n",
       "0          372  173\n",
       "1           24   75"
      ]
     },
     "execution_count": 22,
     "metadata": {},
     "output_type": "execute_result"
    }
   ],
   "source": [
    "# Confusion matrix\n",
    "confusion(y_val, y_pred_knn)"
   ]
  },
  {
   "attachments": {},
   "cell_type": "markdown",
   "metadata": {},
   "source": [
    "## Logistic Regression"
   ]
  },
  {
   "cell_type": "code",
   "execution_count": 23,
   "metadata": {},
   "outputs": [
    {
     "data": {
      "text/html": [
       "<div>\n",
       "<style scoped>\n",
       "    .dataframe tbody tr th:only-of-type {\n",
       "        vertical-align: middle;\n",
       "    }\n",
       "\n",
       "    .dataframe tbody tr th {\n",
       "        vertical-align: top;\n",
       "    }\n",
       "\n",
       "    .dataframe thead th {\n",
       "        text-align: right;\n",
       "    }\n",
       "</style>\n",
       "<table border=\"1\" class=\"dataframe\">\n",
       "  <thead>\n",
       "    <tr style=\"text-align: right;\">\n",
       "      <th></th>\n",
       "      <th></th>\n",
       "      <th>**Recall class 1**</th>\n",
       "      <th>**F1 class 1**</th>\n",
       "      <th>Accuracy</th>\n",
       "      <th>F1 Macro</th>\n",
       "      <th>Precision Macro</th>\n",
       "      <th>Recall Macro</th>\n",
       "    </tr>\n",
       "    <tr>\n",
       "      <th>model</th>\n",
       "      <th>C</th>\n",
       "      <th></th>\n",
       "      <th></th>\n",
       "      <th></th>\n",
       "      <th></th>\n",
       "      <th></th>\n",
       "      <th></th>\n",
       "    </tr>\n",
       "  </thead>\n",
       "  <tbody>\n",
       "    <tr>\n",
       "      <th rowspan=\"7\" valign=\"top\">LogReg</th>\n",
       "      <th>0.1</th>\n",
       "      <td>0.757576</td>\n",
       "      <td>0.49505</td>\n",
       "      <td>0.762422</td>\n",
       "      <td>0.66986</td>\n",
       "      <td>0.656551</td>\n",
       "      <td>0.760439</td>\n",
       "    </tr>\n",
       "    <tr>\n",
       "      <th>1.0</th>\n",
       "      <td>0.717172</td>\n",
       "      <td>0.527881</td>\n",
       "      <td>0.802795</td>\n",
       "      <td>0.701625</td>\n",
       "      <td>0.679288</td>\n",
       "      <td>0.76776</td>\n",
       "    </tr>\n",
       "    <tr>\n",
       "      <th>100000.0</th>\n",
       "      <td>0.666667</td>\n",
       "      <td>0.513619</td>\n",
       "      <td>0.805901</td>\n",
       "      <td>0.696189</td>\n",
       "      <td>0.67491</td>\n",
       "      <td>0.74893</td>\n",
       "    </tr>\n",
       "    <tr>\n",
       "      <th>10000.0</th>\n",
       "      <td>0.666667</td>\n",
       "      <td>0.513619</td>\n",
       "      <td>0.805901</td>\n",
       "      <td>0.696189</td>\n",
       "      <td>0.67491</td>\n",
       "      <td>0.74893</td>\n",
       "    </tr>\n",
       "    <tr>\n",
       "      <th>1000.0</th>\n",
       "      <td>0.666667</td>\n",
       "      <td>0.513619</td>\n",
       "      <td>0.805901</td>\n",
       "      <td>0.696189</td>\n",
       "      <td>0.67491</td>\n",
       "      <td>0.74893</td>\n",
       "    </tr>\n",
       "    <tr>\n",
       "      <th>100.0</th>\n",
       "      <td>0.666667</td>\n",
       "      <td>0.511628</td>\n",
       "      <td>0.804348</td>\n",
       "      <td>0.694649</td>\n",
       "      <td>0.673527</td>\n",
       "      <td>0.748012</td>\n",
       "    </tr>\n",
       "    <tr>\n",
       "      <th>10.0</th>\n",
       "      <td>0.666667</td>\n",
       "      <td>0.507692</td>\n",
       "      <td>0.801242</td>\n",
       "      <td>0.691589</td>\n",
       "      <td>0.670807</td>\n",
       "      <td>0.746177</td>\n",
       "    </tr>\n",
       "  </tbody>\n",
       "</table>\n",
       "</div>"
      ],
      "text/plain": [
       "                **Recall class 1** **F1 class 1**  Accuracy  F1 Macro  \\\n",
       "model  C                                                                \n",
       "LogReg 0.1                0.757576        0.49505  0.762422   0.66986   \n",
       "       1.0                0.717172       0.527881  0.802795  0.701625   \n",
       "       100000.0           0.666667       0.513619  0.805901  0.696189   \n",
       "       10000.0            0.666667       0.513619  0.805901  0.696189   \n",
       "       1000.0             0.666667       0.513619  0.805901  0.696189   \n",
       "       100.0              0.666667       0.511628  0.804348  0.694649   \n",
       "       10.0               0.666667       0.507692  0.801242  0.691589   \n",
       "\n",
       "                Precision Macro Recall Macro  \n",
       "model  C                                      \n",
       "LogReg 0.1             0.656551     0.760439  \n",
       "       1.0             0.679288      0.76776  \n",
       "       100000.0         0.67491      0.74893  \n",
       "       10000.0          0.67491      0.74893  \n",
       "       1000.0           0.67491      0.74893  \n",
       "       100.0           0.673527     0.748012  \n",
       "       10.0            0.670807     0.746177  "
      ]
     },
     "execution_count": 23,
     "metadata": {},
     "output_type": "execute_result"
    }
   ],
   "source": [
    "from sklearn.linear_model import LogisticRegression\n",
    "\n",
    "\n",
    "index= pd.MultiIndex.from_arrays([[], []], names=('model', 'C'))\n",
    "results_logreg = pd.DataFrame(index=index, columns= ['**Recall class 1**', '**F1 class 1**','Accuracy', 'F1 Macro', 'Precision Macro', 'Recall Macro'])\n",
    "\n",
    "lambdas = [0.00001, 0.0001, 0.001, 0.01, 0.1, 1, 10]\n",
    "\n",
    "for l in lambdas:\n",
    "    C = 1/l\n",
    "    logreg = LogisticRegression(C=C, max_iter=1000, random_state=42)\n",
    "    logreg = logreg.fit(X_train,y_train)\n",
    "    y_pred = logreg.predict(X_val)\n",
    "    results_logreg.loc[('LogReg', C), :] = compute_metrics(y_val, y_pred)\n",
    "\n",
    "sorted_results_logreg = results_logreg.sort_values(by='**Recall class 1**', ascending=False)\n",
    "sorted_results_logreg"
   ]
  },
  {
   "cell_type": "code",
   "execution_count": 24,
   "metadata": {},
   "outputs": [
    {
     "name": "stdout",
     "output_type": "stream",
     "text": [
      "c value of the first row: 0.1\n"
     ]
    },
    {
     "data": {
      "text/html": [
       "<div>\n",
       "<style scoped>\n",
       "    .dataframe tbody tr th:only-of-type {\n",
       "        vertical-align: middle;\n",
       "    }\n",
       "\n",
       "    .dataframe tbody tr th {\n",
       "        vertical-align: top;\n",
       "    }\n",
       "\n",
       "    .dataframe thead th {\n",
       "        text-align: right;\n",
       "    }\n",
       "</style>\n",
       "<table border=\"1\" class=\"dataframe\">\n",
       "  <thead>\n",
       "    <tr style=\"text-align: right;\">\n",
       "      <th></th>\n",
       "      <th>**Recall class 1**</th>\n",
       "      <th>**F1 class 1**</th>\n",
       "      <th>Accuracy</th>\n",
       "      <th>F1 Macro</th>\n",
       "      <th>Precision Macro</th>\n",
       "      <th>Recall Macro</th>\n",
       "    </tr>\n",
       "  </thead>\n",
       "  <tbody>\n",
       "    <tr>\n",
       "      <th>KNN-15</th>\n",
       "      <td>0.757576</td>\n",
       "      <td>0.432277</td>\n",
       "      <td>0.694099</td>\n",
       "      <td>0.611462</td>\n",
       "      <td>0.620907</td>\n",
       "      <td>0.720072</td>\n",
       "    </tr>\n",
       "    <tr>\n",
       "      <th>LogReg-0.1</th>\n",
       "      <td>0.757576</td>\n",
       "      <td>0.49505</td>\n",
       "      <td>0.762422</td>\n",
       "      <td>0.66986</td>\n",
       "      <td>0.656551</td>\n",
       "      <td>0.760439</td>\n",
       "    </tr>\n",
       "    <tr>\n",
       "      <th>LDA</th>\n",
       "      <td>0.676768</td>\n",
       "      <td>0.538153</td>\n",
       "      <td>0.821429</td>\n",
       "      <td>0.713735</td>\n",
       "      <td>0.690945</td>\n",
       "      <td>0.762237</td>\n",
       "    </tr>\n",
       "  </tbody>\n",
       "</table>\n",
       "</div>"
      ],
      "text/plain": [
       "           **Recall class 1** **F1 class 1**  Accuracy  F1 Macro  \\\n",
       "KNN-15               0.757576       0.432277  0.694099  0.611462   \n",
       "LogReg-0.1           0.757576        0.49505  0.762422   0.66986   \n",
       "LDA                  0.676768       0.538153  0.821429  0.713735   \n",
       "\n",
       "           Precision Macro Recall Macro  \n",
       "KNN-15            0.620907     0.720072  \n",
       "LogReg-0.1        0.656551     0.760439  \n",
       "LDA               0.690945     0.762237  "
      ]
     },
     "execution_count": 24,
     "metadata": {},
     "output_type": "execute_result"
    }
   ],
   "source": [
    "# Retrieve the k value of the first row\n",
    "first_row = sorted_results_logreg.iloc[0]\n",
    "c_value = first_row.name[1]\n",
    "\n",
    "print(\"c value of the first row:\", c_value)\n",
    "\n",
    "logreg = LogisticRegression(C=c_value, max_iter=1000).fit(X_train,y_train)\n",
    "y_pred_logreg = logreg.predict(X_val)\n",
    "results_df.loc['LogReg-'+str(c_value), :] = compute_metrics(y_val, y_pred_logreg)\n",
    "\n",
    "results_df.sort_values(by='**Recall class 1**', ascending=False)"
   ]
  },
  {
   "cell_type": "code",
   "execution_count": 25,
   "metadata": {},
   "outputs": [
    {
     "data": {
      "text/html": [
       "<div>\n",
       "<style scoped>\n",
       "    .dataframe tbody tr th:only-of-type {\n",
       "        vertical-align: middle;\n",
       "    }\n",
       "\n",
       "    .dataframe tbody tr th {\n",
       "        vertical-align: top;\n",
       "    }\n",
       "\n",
       "    .dataframe thead th {\n",
       "        text-align: right;\n",
       "    }\n",
       "</style>\n",
       "<table border=\"1\" class=\"dataframe\">\n",
       "  <thead>\n",
       "    <tr style=\"text-align: right;\">\n",
       "      <th>predicted</th>\n",
       "      <th>0</th>\n",
       "      <th>1</th>\n",
       "    </tr>\n",
       "    <tr>\n",
       "      <th>target</th>\n",
       "      <th></th>\n",
       "      <th></th>\n",
       "    </tr>\n",
       "  </thead>\n",
       "  <tbody>\n",
       "    <tr>\n",
       "      <th>0</th>\n",
       "      <td>416</td>\n",
       "      <td>129</td>\n",
       "    </tr>\n",
       "    <tr>\n",
       "      <th>1</th>\n",
       "      <td>24</td>\n",
       "      <td>75</td>\n",
       "    </tr>\n",
       "  </tbody>\n",
       "</table>\n",
       "</div>"
      ],
      "text/plain": [
       "predicted    0    1\n",
       "target             \n",
       "0          416  129\n",
       "1           24   75"
      ]
     },
     "execution_count": 25,
     "metadata": {},
     "output_type": "execute_result"
    }
   ],
   "source": [
    "# Confusion matrix\n",
    "confusion(y_val, y_pred_logreg)"
   ]
  },
  {
   "attachments": {},
   "cell_type": "markdown",
   "metadata": {},
   "source": [
    "## Random Forest"
   ]
  },
  {
   "cell_type": "code",
   "execution_count": 26,
   "metadata": {},
   "outputs": [
    {
     "name": "stdout",
     "output_type": "stream",
     "text": [
      "Best Parameters: {'max_depth': None, 'min_samples_split': 2, 'n_estimators': 100}\n",
      "Best Score: 0.9751515151515152\n"
     ]
    }
   ],
   "source": [
    "# Define the parameter grid for GridSearchCV\n",
    "param_grid = {\n",
    "    'n_estimators': [100, 300, 500],  # Number of trees in the forest\n",
    "    'max_depth': [None, 5, 10],       # Maximum depth of each tree\n",
    "    'min_samples_split': [2, 5, 10]   # Minimum number of samples required to split an internal node\n",
    "}\n",
    "\n",
    "# Create a Random Forest classifier\n",
    "rf_classifier = RandomForestClassifier(random_state=42)\n",
    "\n",
    "# Create the GridSearchCV object\n",
    "grid_search = GridSearchCV(estimator=rf_classifier, \n",
    "                           param_grid=param_grid, \n",
    "                           scoring=['recall', 'f1','accuracy', 'f1_macro', 'precision_macro', 'recall_macro'],\n",
    "                           cv=5,\n",
    "                           refit='recall')\n",
    "\n",
    "# Fit the GridSearchCV object to the data\n",
    "grid_search.fit(X_train, y_train)\n",
    "\n",
    "# Print the best parameters found by GridSearchCV\n",
    "print(\"Best Parameters:\", grid_search.best_params_)\n",
    "\n",
    "# Print the best score found by GridSearchCV\n",
    "print(\"Best Score:\", grid_search.best_score_)\n",
    "\n",
    "# Get the best model found by GridSearchCV\n",
    "best_rfmodel = grid_search.best_estimator_\n"
   ]
  },
  {
   "cell_type": "code",
   "execution_count": 27,
   "metadata": {},
   "outputs": [
    {
     "data": {
      "text/html": [
       "<div>\n",
       "<style scoped>\n",
       "    .dataframe tbody tr th:only-of-type {\n",
       "        vertical-align: middle;\n",
       "    }\n",
       "\n",
       "    .dataframe tbody tr th {\n",
       "        vertical-align: top;\n",
       "    }\n",
       "\n",
       "    .dataframe thead th {\n",
       "        text-align: right;\n",
       "    }\n",
       "</style>\n",
       "<table border=\"1\" class=\"dataframe\">\n",
       "  <thead>\n",
       "    <tr style=\"text-align: right;\">\n",
       "      <th></th>\n",
       "      <th>**Recall class 1**</th>\n",
       "      <th>**F1 class 1**</th>\n",
       "      <th>Accuracy</th>\n",
       "      <th>F1 Macro</th>\n",
       "      <th>Precision Macro</th>\n",
       "      <th>Recall Macro</th>\n",
       "    </tr>\n",
       "  </thead>\n",
       "  <tbody>\n",
       "    <tr>\n",
       "      <th>KNN-15</th>\n",
       "      <td>0.757576</td>\n",
       "      <td>0.432277</td>\n",
       "      <td>0.694099</td>\n",
       "      <td>0.611462</td>\n",
       "      <td>0.620907</td>\n",
       "      <td>0.720072</td>\n",
       "    </tr>\n",
       "    <tr>\n",
       "      <th>LogReg-0.1</th>\n",
       "      <td>0.757576</td>\n",
       "      <td>0.49505</td>\n",
       "      <td>0.762422</td>\n",
       "      <td>0.66986</td>\n",
       "      <td>0.656551</td>\n",
       "      <td>0.760439</td>\n",
       "    </tr>\n",
       "    <tr>\n",
       "      <th>Random Forest</th>\n",
       "      <td>0.686869</td>\n",
       "      <td>0.51711</td>\n",
       "      <td>0.802795</td>\n",
       "      <td>0.696604</td>\n",
       "      <td>0.675025</td>\n",
       "      <td>0.755361</td>\n",
       "    </tr>\n",
       "    <tr>\n",
       "      <th>LDA</th>\n",
       "      <td>0.676768</td>\n",
       "      <td>0.538153</td>\n",
       "      <td>0.821429</td>\n",
       "      <td>0.713735</td>\n",
       "      <td>0.690945</td>\n",
       "      <td>0.762237</td>\n",
       "    </tr>\n",
       "  </tbody>\n",
       "</table>\n",
       "</div>"
      ],
      "text/plain": [
       "              **Recall class 1** **F1 class 1**  Accuracy  F1 Macro  \\\n",
       "KNN-15                  0.757576       0.432277  0.694099  0.611462   \n",
       "LogReg-0.1              0.757576        0.49505  0.762422   0.66986   \n",
       "Random Forest           0.686869        0.51711  0.802795  0.696604   \n",
       "LDA                     0.676768       0.538153  0.821429  0.713735   \n",
       "\n",
       "              Precision Macro Recall Macro  \n",
       "KNN-15               0.620907     0.720072  \n",
       "LogReg-0.1           0.656551     0.760439  \n",
       "Random Forest        0.675025     0.755361  \n",
       "LDA                  0.690945     0.762237  "
      ]
     },
     "execution_count": 27,
     "metadata": {},
     "output_type": "execute_result"
    }
   ],
   "source": [
    "y_pred_rf = best_rfmodel.predict(X_val)\n",
    "results_df.loc['Random Forest', :] = compute_metrics(y_val, y_pred_rf)\n",
    "\n",
    "results_df.sort_values(by='**Recall class 1**', ascending=False)"
   ]
  },
  {
   "cell_type": "code",
   "execution_count": 28,
   "metadata": {},
   "outputs": [
    {
     "data": {
      "text/html": [
       "<div>\n",
       "<style scoped>\n",
       "    .dataframe tbody tr th:only-of-type {\n",
       "        vertical-align: middle;\n",
       "    }\n",
       "\n",
       "    .dataframe tbody tr th {\n",
       "        vertical-align: top;\n",
       "    }\n",
       "\n",
       "    .dataframe thead th {\n",
       "        text-align: right;\n",
       "    }\n",
       "</style>\n",
       "<table border=\"1\" class=\"dataframe\">\n",
       "  <thead>\n",
       "    <tr style=\"text-align: right;\">\n",
       "      <th>predicted</th>\n",
       "      <th>0</th>\n",
       "      <th>1</th>\n",
       "    </tr>\n",
       "    <tr>\n",
       "      <th>target</th>\n",
       "      <th></th>\n",
       "      <th></th>\n",
       "    </tr>\n",
       "  </thead>\n",
       "  <tbody>\n",
       "    <tr>\n",
       "      <th>0</th>\n",
       "      <td>449</td>\n",
       "      <td>96</td>\n",
       "    </tr>\n",
       "    <tr>\n",
       "      <th>1</th>\n",
       "      <td>31</td>\n",
       "      <td>68</td>\n",
       "    </tr>\n",
       "  </tbody>\n",
       "</table>\n",
       "</div>"
      ],
      "text/plain": [
       "predicted    0   1\n",
       "target            \n",
       "0          449  96\n",
       "1           31  68"
      ]
     },
     "execution_count": 28,
     "metadata": {},
     "output_type": "execute_result"
    }
   ],
   "source": [
    "# Confusion matrix\n",
    "confusion(y_val, y_pred_rf)"
   ]
  },
  {
   "attachments": {},
   "cell_type": "markdown",
   "metadata": {},
   "source": [
    "## Feature Importance"
   ]
  },
  {
   "cell_type": "code",
   "execution_count": 29,
   "metadata": {},
   "outputs": [
    {
     "data": {
      "text/plain": [
       "<Axes: >"
      ]
     },
     "execution_count": 29,
     "metadata": {},
     "output_type": "execute_result"
    },
    {
     "data": {
      "image/png": "[encoded data removed]",
      "text/plain": [
       "<Figure size 800x800 with 1 Axes>"
      ]
     },
     "metadata": {},
     "output_type": "display_data"
    }
   ],
   "source": [
    "var_imp = pd.DataFrame({'importance': best_rfmodel.feature_importances_},\n",
    "                       index=X_train.columns)\n",
    "\n",
    "var_imp.sort_values(by='importance').plot.barh(figsize=(8,8),\n",
    "                                               legend=False)"
   ]
  },
  {
   "attachments": {},
   "cell_type": "markdown",
   "metadata": {},
   "source": [
    "## Gaussian NB"
   ]
  },
  {
   "cell_type": "code",
   "execution_count": 30,
   "metadata": {},
   "outputs": [
    {
     "data": {
      "text/html": [
       "<div>\n",
       "<style scoped>\n",
       "    .dataframe tbody tr th:only-of-type {\n",
       "        vertical-align: middle;\n",
       "    }\n",
       "\n",
       "    .dataframe tbody tr th {\n",
       "        vertical-align: top;\n",
       "    }\n",
       "\n",
       "    .dataframe thead th {\n",
       "        text-align: right;\n",
       "    }\n",
       "</style>\n",
       "<table border=\"1\" class=\"dataframe\">\n",
       "  <thead>\n",
       "    <tr style=\"text-align: right;\">\n",
       "      <th></th>\n",
       "      <th>**Recall class 1**</th>\n",
       "      <th>**F1 class 1**</th>\n",
       "      <th>Accuracy</th>\n",
       "      <th>F1 Macro</th>\n",
       "      <th>Precision Macro</th>\n",
       "      <th>Recall Macro</th>\n",
       "    </tr>\n",
       "  </thead>\n",
       "  <tbody>\n",
       "    <tr>\n",
       "      <th>KNN-15</th>\n",
       "      <td>0.757576</td>\n",
       "      <td>0.432277</td>\n",
       "      <td>0.694099</td>\n",
       "      <td>0.611462</td>\n",
       "      <td>0.620907</td>\n",
       "      <td>0.720072</td>\n",
       "    </tr>\n",
       "    <tr>\n",
       "      <th>LogReg-0.1</th>\n",
       "      <td>0.757576</td>\n",
       "      <td>0.49505</td>\n",
       "      <td>0.762422</td>\n",
       "      <td>0.66986</td>\n",
       "      <td>0.656551</td>\n",
       "      <td>0.760439</td>\n",
       "    </tr>\n",
       "    <tr>\n",
       "      <th>Gaussian-NB</th>\n",
       "      <td>0.727273</td>\n",
       "      <td>0.503497</td>\n",
       "      <td>0.779503</td>\n",
       "      <td>0.68089</td>\n",
       "      <td>0.662973</td>\n",
       "      <td>0.758132</td>\n",
       "    </tr>\n",
       "    <tr>\n",
       "      <th>Random Forest</th>\n",
       "      <td>0.686869</td>\n",
       "      <td>0.51711</td>\n",
       "      <td>0.802795</td>\n",
       "      <td>0.696604</td>\n",
       "      <td>0.675025</td>\n",
       "      <td>0.755361</td>\n",
       "    </tr>\n",
       "    <tr>\n",
       "      <th>LDA</th>\n",
       "      <td>0.676768</td>\n",
       "      <td>0.538153</td>\n",
       "      <td>0.821429</td>\n",
       "      <td>0.713735</td>\n",
       "      <td>0.690945</td>\n",
       "      <td>0.762237</td>\n",
       "    </tr>\n",
       "  </tbody>\n",
       "</table>\n",
       "</div>"
      ],
      "text/plain": [
       "              **Recall class 1** **F1 class 1**  Accuracy  F1 Macro  \\\n",
       "KNN-15                  0.757576       0.432277  0.694099  0.611462   \n",
       "LogReg-0.1              0.757576        0.49505  0.762422   0.66986   \n",
       "Gaussian-NB             0.727273       0.503497  0.779503   0.68089   \n",
       "Random Forest           0.686869        0.51711  0.802795  0.696604   \n",
       "LDA                     0.676768       0.538153  0.821429  0.713735   \n",
       "\n",
       "              Precision Macro Recall Macro  \n",
       "KNN-15               0.620907     0.720072  \n",
       "LogReg-0.1           0.656551     0.760439  \n",
       "Gaussian-NB          0.662973     0.758132  \n",
       "Random Forest        0.675025     0.755361  \n",
       "LDA                  0.690945     0.762237  "
      ]
     },
     "execution_count": 30,
     "metadata": {},
     "output_type": "execute_result"
    }
   ],
   "source": [
    "from sklearn.naive_bayes import GaussianNB\n",
    "\n",
    "\n",
    "gaussian_nb = GaussianNB()\n",
    "gaussian_nb = gaussian_nb.fit(X_train[numerical_cols],y_train)\n",
    "y_pred_gnb = gaussian_nb.predict(X_val[numerical_cols])\n",
    "\n",
    "results_df.loc['Gaussian-NB', :] = compute_metrics(y_val, y_pred_gnb)\n",
    "results_df.sort_values(by='**Recall class 1**', ascending=False)"
   ]
  },
  {
   "attachments": {},
   "cell_type": "markdown",
   "metadata": {},
   "source": [
    "## Neural Network"
   ]
  },
  {
   "cell_type": "code",
   "execution_count": 31,
   "metadata": {},
   "outputs": [
    {
     "name": "stdout",
     "output_type": "stream",
     "text": [
      "6 [2, 4, [2, 2], [4, 4], [2, 2, 2], [4, 4, 4]]\n",
      "3 [0.01, 0.1, 1]\n"
     ]
    }
   ],
   "source": [
    "sizes = [2*i for i in range(1,3)]\n",
    "sizes = sizes + [[2*i,2*i] for i in range(1,3)]\n",
    "sizes = sizes + [[2*i,2*i, 2*i] for i in range(1,3)]\n",
    "\n",
    "print(len(sizes), sizes)\n",
    "\n",
    "\n",
    "decays = [0.01,0.1,1]\n",
    "print(len(decays), decays[:10])"
   ]
  },
  {
   "cell_type": "code",
   "execution_count": 32,
   "metadata": {},
   "outputs": [
    {
     "name": "stderr",
     "output_type": "stream",
     "text": [
      "c:\\Users\\nikol\\AppData\\Local\\Programs\\Python\\Python311\\Lib\\site-packages\\sklearn\\neural_network\\_multilayer_perceptron.py:541: ConvergenceWarning: lbfgs failed to converge (status=1):\n",
      "STOP: TOTAL NO. of f AND g EVALUATIONS EXCEEDS LIMIT.\n",
      "\n",
      "Increase the number of iterations (max_iter) or scale the data as shown in:\n",
      "    https://scikit-learn.org/stable/modules/preprocessing.html\n",
      "  self.n_iter_ = _check_optimize_result(\"lbfgs\", opt_res, self.max_iter)\n",
      "c:\\Users\\nikol\\AppData\\Local\\Programs\\Python\\Python311\\Lib\\site-packages\\sklearn\\neural_network\\_multilayer_perceptron.py:541: ConvergenceWarning: lbfgs failed to converge (status=1):\n",
      "STOP: TOTAL NO. of f AND g EVALUATIONS EXCEEDS LIMIT.\n",
      "\n",
      "Increase the number of iterations (max_iter) or scale the data as shown in:\n",
      "    https://scikit-learn.org/stable/modules/preprocessing.html\n",
      "  self.n_iter_ = _check_optimize_result(\"lbfgs\", opt_res, self.max_iter)\n"
     ]
    },
    {
     "name": "stdout",
     "output_type": "stream",
     "text": [
      "Best Parameters: {'alpha': 1, 'hidden_layer_sizes': [4, 4, 4]}\n",
      "Best Score: 0.9606060606060606\n"
     ]
    }
   ],
   "source": [
    "from sklearn.neural_network import MLPClassifier\n",
    "\n",
    "\n",
    "model_nnet = MLPClassifier(hidden_layer_sizes=[2,2,2],\n",
    "                           alpha=0,\n",
    "                           activation='logistic',\n",
    "                           max_iter=1000000,\n",
    "                           solver='lbfgs',random_state=42)\n",
    "\n",
    "\n",
    "trc = GridSearchCV(estimator=model_nnet,\n",
    "                   scoring=['recall', 'f1','accuracy', 'f1_macro', 'precision_macro', 'recall_macro'],\n",
    "                   param_grid={'hidden_layer_sizes': sizes,\n",
    "                              'alpha': decays},\n",
    "                   cv=5,\n",
    "                   return_train_score=True,\n",
    "                   refit='recall')\n",
    "\n",
    "\n",
    "# Fit the GridSearchCV object to the data\n",
    "trc.fit(X_train, y_train)\n",
    "\n",
    "# Print the best parameters found by GridSearchCV\n",
    "print(\"Best Parameters:\", trc.best_params_)\n",
    "\n",
    "# Print the best score found by GridSearchCV\n",
    "print(\"Best Score:\", trc.best_score_)\n",
    "\n",
    "# Get the best model found by GridSearchCV\n",
    "best_mlpmodel = trc.best_estimator_"
   ]
  },
  {
   "cell_type": "code",
   "execution_count": 33,
   "metadata": {},
   "outputs": [
    {
     "data": {
      "text/html": [
       "<div>\n",
       "<style scoped>\n",
       "    .dataframe tbody tr th:only-of-type {\n",
       "        vertical-align: middle;\n",
       "    }\n",
       "\n",
       "    .dataframe tbody tr th {\n",
       "        vertical-align: top;\n",
       "    }\n",
       "\n",
       "    .dataframe thead th {\n",
       "        text-align: right;\n",
       "    }\n",
       "</style>\n",
       "<table border=\"1\" class=\"dataframe\">\n",
       "  <thead>\n",
       "    <tr style=\"text-align: right;\">\n",
       "      <th></th>\n",
       "      <th>**Recall class 1**</th>\n",
       "      <th>**F1 class 1**</th>\n",
       "      <th>Accuracy</th>\n",
       "      <th>F1 Macro</th>\n",
       "      <th>Precision Macro</th>\n",
       "      <th>Recall Macro</th>\n",
       "    </tr>\n",
       "  </thead>\n",
       "  <tbody>\n",
       "    <tr>\n",
       "      <th>KNN-15</th>\n",
       "      <td>0.757576</td>\n",
       "      <td>0.432277</td>\n",
       "      <td>0.694099</td>\n",
       "      <td>0.611462</td>\n",
       "      <td>0.620907</td>\n",
       "      <td>0.720072</td>\n",
       "    </tr>\n",
       "    <tr>\n",
       "      <th>LogReg-0.1</th>\n",
       "      <td>0.757576</td>\n",
       "      <td>0.49505</td>\n",
       "      <td>0.762422</td>\n",
       "      <td>0.66986</td>\n",
       "      <td>0.656551</td>\n",
       "      <td>0.760439</td>\n",
       "    </tr>\n",
       "    <tr>\n",
       "      <th>Gaussian-NB</th>\n",
       "      <td>0.727273</td>\n",
       "      <td>0.503497</td>\n",
       "      <td>0.779503</td>\n",
       "      <td>0.68089</td>\n",
       "      <td>0.662973</td>\n",
       "      <td>0.758132</td>\n",
       "    </tr>\n",
       "    <tr>\n",
       "      <th>Random Forest</th>\n",
       "      <td>0.686869</td>\n",
       "      <td>0.51711</td>\n",
       "      <td>0.802795</td>\n",
       "      <td>0.696604</td>\n",
       "      <td>0.675025</td>\n",
       "      <td>0.755361</td>\n",
       "    </tr>\n",
       "    <tr>\n",
       "      <th>LDA</th>\n",
       "      <td>0.676768</td>\n",
       "      <td>0.538153</td>\n",
       "      <td>0.821429</td>\n",
       "      <td>0.713735</td>\n",
       "      <td>0.690945</td>\n",
       "      <td>0.762237</td>\n",
       "    </tr>\n",
       "    <tr>\n",
       "      <th>MLP</th>\n",
       "      <td>0.666667</td>\n",
       "      <td>0.461538</td>\n",
       "      <td>0.76087</td>\n",
       "      <td>0.653923</td>\n",
       "      <td>0.640366</td>\n",
       "      <td>0.722324</td>\n",
       "    </tr>\n",
       "  </tbody>\n",
       "</table>\n",
       "</div>"
      ],
      "text/plain": [
       "              **Recall class 1** **F1 class 1**  Accuracy  F1 Macro  \\\n",
       "KNN-15                  0.757576       0.432277  0.694099  0.611462   \n",
       "LogReg-0.1              0.757576        0.49505  0.762422   0.66986   \n",
       "Gaussian-NB             0.727273       0.503497  0.779503   0.68089   \n",
       "Random Forest           0.686869        0.51711  0.802795  0.696604   \n",
       "LDA                     0.676768       0.538153  0.821429  0.713735   \n",
       "MLP                     0.666667       0.461538   0.76087  0.653923   \n",
       "\n",
       "              Precision Macro Recall Macro  \n",
       "KNN-15               0.620907     0.720072  \n",
       "LogReg-0.1           0.656551     0.760439  \n",
       "Gaussian-NB          0.662973     0.758132  \n",
       "Random Forest        0.675025     0.755361  \n",
       "LDA                  0.690945     0.762237  \n",
       "MLP                  0.640366     0.722324  "
      ]
     },
     "execution_count": 33,
     "metadata": {},
     "output_type": "execute_result"
    }
   ],
   "source": [
    "y_pred_mlp = best_mlpmodel.predict(X_val)\n",
    "results_df.loc['MLP', :] = compute_metrics(y_val, y_pred_mlp)\n",
    "\n",
    "results_df.sort_values(by='**Recall class 1**', ascending=False)"
   ]
  },
  {
   "cell_type": "code",
   "execution_count": 34,
   "metadata": {},
   "outputs": [
    {
     "data": {
      "text/html": [
       "<div>\n",
       "<style scoped>\n",
       "    .dataframe tbody tr th:only-of-type {\n",
       "        vertical-align: middle;\n",
       "    }\n",
       "\n",
       "    .dataframe tbody tr th {\n",
       "        vertical-align: top;\n",
       "    }\n",
       "\n",
       "    .dataframe thead th {\n",
       "        text-align: right;\n",
       "    }\n",
       "</style>\n",
       "<table border=\"1\" class=\"dataframe\">\n",
       "  <thead>\n",
       "    <tr style=\"text-align: right;\">\n",
       "      <th>predicted</th>\n",
       "      <th>0</th>\n",
       "      <th>1</th>\n",
       "    </tr>\n",
       "    <tr>\n",
       "      <th>target</th>\n",
       "      <th></th>\n",
       "      <th></th>\n",
       "    </tr>\n",
       "  </thead>\n",
       "  <tbody>\n",
       "    <tr>\n",
       "      <th>0</th>\n",
       "      <td>424</td>\n",
       "      <td>121</td>\n",
       "    </tr>\n",
       "    <tr>\n",
       "      <th>1</th>\n",
       "      <td>33</td>\n",
       "      <td>66</td>\n",
       "    </tr>\n",
       "  </tbody>\n",
       "</table>\n",
       "</div>"
      ],
      "text/plain": [
       "predicted    0    1\n",
       "target             \n",
       "0          424  121\n",
       "1           33   66"
      ]
     },
     "execution_count": 34,
     "metadata": {},
     "output_type": "execute_result"
    }
   ],
   "source": [
    "# Confusion Matrix\n",
    "confusion(y_val, y_pred_mlp)"
   ]
  },
  {
   "attachments": {},
   "cell_type": "markdown",
   "metadata": {},
   "source": [
    "## Ensemble"
   ]
  },
  {
   "cell_type": "code",
   "execution_count": 35,
   "metadata": {},
   "outputs": [
    {
     "data": {
      "text/html": [
       "<div>\n",
       "<style scoped>\n",
       "    .dataframe tbody tr th:only-of-type {\n",
       "        vertical-align: middle;\n",
       "    }\n",
       "\n",
       "    .dataframe tbody tr th {\n",
       "        vertical-align: top;\n",
       "    }\n",
       "\n",
       "    .dataframe thead th {\n",
       "        text-align: right;\n",
       "    }\n",
       "</style>\n",
       "<table border=\"1\" class=\"dataframe\">\n",
       "  <thead>\n",
       "    <tr style=\"text-align: right;\">\n",
       "      <th></th>\n",
       "      <th>**Recall class 1**</th>\n",
       "      <th>**F1 class 1**</th>\n",
       "      <th>Accuracy</th>\n",
       "      <th>F1 Macro</th>\n",
       "      <th>Precision Macro</th>\n",
       "      <th>Recall Macro</th>\n",
       "    </tr>\n",
       "  </thead>\n",
       "  <tbody>\n",
       "    <tr>\n",
       "      <th>KNN-15</th>\n",
       "      <td>0.757576</td>\n",
       "      <td>0.432277</td>\n",
       "      <td>0.694099</td>\n",
       "      <td>0.611462</td>\n",
       "      <td>0.620907</td>\n",
       "      <td>0.720072</td>\n",
       "    </tr>\n",
       "    <tr>\n",
       "      <th>LogReg-0.1</th>\n",
       "      <td>0.757576</td>\n",
       "      <td>0.49505</td>\n",
       "      <td>0.762422</td>\n",
       "      <td>0.66986</td>\n",
       "      <td>0.656551</td>\n",
       "      <td>0.760439</td>\n",
       "    </tr>\n",
       "    <tr>\n",
       "      <th>Gaussian-NB</th>\n",
       "      <td>0.727273</td>\n",
       "      <td>0.503497</td>\n",
       "      <td>0.779503</td>\n",
       "      <td>0.68089</td>\n",
       "      <td>0.662973</td>\n",
       "      <td>0.758132</td>\n",
       "    </tr>\n",
       "    <tr>\n",
       "      <th>Ensemble</th>\n",
       "      <td>0.727273</td>\n",
       "      <td>0.494845</td>\n",
       "      <td>0.771739</td>\n",
       "      <td>0.673702</td>\n",
       "      <td>0.657633</td>\n",
       "      <td>0.753545</td>\n",
       "    </tr>\n",
       "    <tr>\n",
       "      <th>Random Forest</th>\n",
       "      <td>0.686869</td>\n",
       "      <td>0.51711</td>\n",
       "      <td>0.802795</td>\n",
       "      <td>0.696604</td>\n",
       "      <td>0.675025</td>\n",
       "      <td>0.755361</td>\n",
       "    </tr>\n",
       "    <tr>\n",
       "      <th>LDA</th>\n",
       "      <td>0.676768</td>\n",
       "      <td>0.538153</td>\n",
       "      <td>0.821429</td>\n",
       "      <td>0.713735</td>\n",
       "      <td>0.690945</td>\n",
       "      <td>0.762237</td>\n",
       "    </tr>\n",
       "    <tr>\n",
       "      <th>MLP</th>\n",
       "      <td>0.666667</td>\n",
       "      <td>0.461538</td>\n",
       "      <td>0.76087</td>\n",
       "      <td>0.653923</td>\n",
       "      <td>0.640366</td>\n",
       "      <td>0.722324</td>\n",
       "    </tr>\n",
       "  </tbody>\n",
       "</table>\n",
       "</div>"
      ],
      "text/plain": [
       "              **Recall class 1** **F1 class 1**  Accuracy  F1 Macro  \\\n",
       "KNN-15                  0.757576       0.432277  0.694099  0.611462   \n",
       "LogReg-0.1              0.757576        0.49505  0.762422   0.66986   \n",
       "Gaussian-NB             0.727273       0.503497  0.779503   0.68089   \n",
       "Ensemble                0.727273       0.494845  0.771739  0.673702   \n",
       "Random Forest           0.686869        0.51711  0.802795  0.696604   \n",
       "LDA                     0.676768       0.538153  0.821429  0.713735   \n",
       "MLP                     0.666667       0.461538   0.76087  0.653923   \n",
       "\n",
       "              Precision Macro Recall Macro  \n",
       "KNN-15               0.620907     0.720072  \n",
       "LogReg-0.1           0.656551     0.760439  \n",
       "Gaussian-NB          0.662973     0.758132  \n",
       "Ensemble             0.657633     0.753545  \n",
       "Random Forest        0.675025     0.755361  \n",
       "LDA                  0.690945     0.762237  \n",
       "MLP                  0.640366     0.722324  "
      ]
     },
     "execution_count": 35,
     "metadata": {},
     "output_type": "execute_result"
    }
   ],
   "source": [
    "from sklearn.ensemble import VotingClassifier\n",
    "\n",
    "\n",
    "voting_best = VotingClassifier([('logreg', logreg),\n",
    "                                ('knn', knn),\n",
    "                                ('rf', best_rfmodel)] ,voting='soft')\n",
    "voting_best.fit(X_train, y_train)\n",
    "\n",
    "y_pred = voting_best.predict(X_val)\n",
    "\n",
    "results_df.loc['Ensemble', :] = compute_metrics(y_val, y_pred)\n",
    "\n",
    "results_df.sort_values(by='**Recall class 1**', ascending=False)"
   ]
  },
  {
   "attachments": {},
   "cell_type": "markdown",
   "metadata": {},
   "source": [
    "## Generalization Performance"
   ]
  },
  {
   "cell_type": "code",
   "execution_count": 36,
   "metadata": {},
   "outputs": [],
   "source": [
    "y_pred=logreg.predict(X_test)"
   ]
  },
  {
   "cell_type": "code",
   "execution_count": 39,
   "metadata": {},
   "outputs": [
    {
     "name": "stdout",
     "output_type": "stream",
     "text": [
      "recall score:  0.7317073170731707\n",
      "f1 score:  0.47120418848167545\n",
      "accuracy score:  0.7490683229813665\n",
      "f1 macro:  0.6533545372375804\n",
      "precision score:  0.6435253935253935\n",
      "recall macro:  0.7419533652814534\n"
     ]
    },
    {
     "data": {
      "application/vnd.plotly.v1+json": {
       "config": {
        "plotlyServerURL": "https://plot.ly"
       },
       "data": [
        {
         "coloraxis": "coloraxis",
         "hovertemplate": "Predicted Label: %{x}<br>Correct Label: %{y}<br>Value: %{z}<extra></extra>",
         "name": "0",
         "texttemplate": "%{z}",
         "type": "heatmap",
         "xaxis": "x",
         "yaxis": "y",
         "z": [
          [
           0.75,
           0.25
          ],
          [
           0.27,
           0.73
          ]
         ]
        }
       ],
       "layout": {
        "coloraxis": {
         "colorbar": {
          "title": {
           "text": "Value"
          }
         },
         "colorscale": [
          [
           0,
           "rgb(20,44,66)"
          ],
          [
           1,
           "rgb(90,179,244)"
          ]
         ]
        },
        "margin": {
         "t": 60
        },
        "template": {
         "data": {
          "bar": [
           {
            "error_x": {
             "color": "rgb(51,51,51)"
            },
            "error_y": {
             "color": "rgb(51,51,51)"
            },
            "marker": {
             "line": {
              "color": "rgb(237,237,237)",
              "width": 0.5
             },
             "pattern": {
              "fillmode": "overlay",
              "size": 10,
              "solidity": 0.2
             }
            },
            "type": "bar"
           }
          ],
          "barpolar": [
           {
            "marker": {
             "line": {
              "color": "rgb(237,237,237)",
              "width": 0.5
             },
             "pattern": {
              "fillmode": "overlay",
              "size": 10,
              "solidity": 0.2
             }
            },
            "type": "barpolar"
           }
          ],
          "carpet": [
           {
            "aaxis": {
             "endlinecolor": "rgb(51,51,51)",
             "gridcolor": "white",
             "linecolor": "white",
             "minorgridcolor": "white",
             "startlinecolor": "rgb(51,51,51)"
            },
            "baxis": {
             "endlinecolor": "rgb(51,51,51)",
             "gridcolor": "white",
             "linecolor": "white",
             "minorgridcolor": "white",
             "startlinecolor": "rgb(51,51,51)"
            },
            "type": "carpet"
           }
          ],
          "choropleth": [
           {
            "colorbar": {
             "outlinewidth": 0,
             "tickcolor": "rgb(237,237,237)",
             "ticklen": 6,
             "ticks": "inside"
            },
            "type": "choropleth"
           }
          ],
          "contour": [
           {
            "colorbar": {
             "outlinewidth": 0,
             "tickcolor": "rgb(237,237,237)",
             "ticklen": 6,
             "ticks": "inside"
            },
            "colorscale": [
             [
              0,
              "rgb(20,44,66)"
             ],
             [
              1,
              "rgb(90,179,244)"
             ]
            ],
            "type": "contour"
           }
          ],
          "contourcarpet": [
           {
            "colorbar": {
             "outlinewidth": 0,
             "tickcolor": "rgb(237,237,237)",
             "ticklen": 6,
             "ticks": "inside"
            },
            "type": "contourcarpet"
           }
          ],
          "heatmap": [
           {
            "colorbar": {
             "outlinewidth": 0,
             "tickcolor": "rgb(237,237,237)",
             "ticklen": 6,
             "ticks": "inside"
            },
            "colorscale": [
             [
              0,
              "rgb(20,44,66)"
             ],
             [
              1,
              "rgb(90,179,244)"
             ]
            ],
            "type": "heatmap"
           }
          ],
          "heatmapgl": [
           {
            "colorbar": {
             "outlinewidth": 0,
             "tickcolor": "rgb(237,237,237)",
             "ticklen": 6,
             "ticks": "inside"
            },
            "colorscale": [
             [
              0,
              "rgb(20,44,66)"
             ],
             [
              1,
              "rgb(90,179,244)"
             ]
            ],
            "type": "heatmapgl"
           }
          ],
          "histogram": [
           {
            "marker": {
             "pattern": {
              "fillmode": "overlay",
              "size": 10,
              "solidity": 0.2
             }
            },
            "type": "histogram"
           }
          ],
          "histogram2d": [
           {
            "colorbar": {
             "outlinewidth": 0,
             "tickcolor": "rgb(237,237,237)",
             "ticklen": 6,
             "ticks": "inside"
            },
            "colorscale": [
             [
              0,
              "rgb(20,44,66)"
             ],
             [
              1,
              "rgb(90,179,244)"
             ]
            ],
            "type": "histogram2d"
           }
          ],
          "histogram2dcontour": [
           {
            "colorbar": {
             "outlinewidth": 0,
             "tickcolor": "rgb(237,237,237)",
             "ticklen": 6,
             "ticks": "inside"
            },
            "colorscale": [
             [
              0,
              "rgb(20,44,66)"
             ],
             [
              1,
              "rgb(90,179,244)"
             ]
            ],
            "type": "histogram2dcontour"
           }
          ],
          "mesh3d": [
           {
            "colorbar": {
             "outlinewidth": 0,
             "tickcolor": "rgb(237,237,237)",
             "ticklen": 6,
             "ticks": "inside"
            },
            "type": "mesh3d"
           }
          ],
          "parcoords": [
           {
            "line": {
             "colorbar": {
              "outlinewidth": 0,
              "tickcolor": "rgb(237,237,237)",
              "ticklen": 6,
              "ticks": "inside"
             }
            },
            "type": "parcoords"
           }
          ],
          "pie": [
           {
            "automargin": true,
            "type": "pie"
           }
          ],
          "scatter": [
           {
            "fillpattern": {
             "fillmode": "overlay",
             "size": 10,
             "solidity": 0.2
            },
            "type": "scatter"
           }
          ],
          "scatter3d": [
           {
            "line": {
             "colorbar": {
              "outlinewidth": 0,
              "tickcolor": "rgb(237,237,237)",
              "ticklen": 6,
              "ticks": "inside"
             }
            },
            "marker": {
             "colorbar": {
              "outlinewidth": 0,
              "tickcolor": "rgb(237,237,237)",
              "ticklen": 6,
              "ticks": "inside"
             }
            },
            "type": "scatter3d"
           }
          ],
          "scattercarpet": [
           {
            "marker": {
             "colorbar": {
              "outlinewidth": 0,
              "tickcolor": "rgb(237,237,237)",
              "ticklen": 6,
              "ticks": "inside"
             }
            },
            "type": "scattercarpet"
           }
          ],
          "scattergeo": [
           {
            "marker": {
             "colorbar": {
              "outlinewidth": 0,
              "tickcolor": "rgb(237,237,237)",
              "ticklen": 6,
              "ticks": "inside"
             }
            },
            "type": "scattergeo"
           }
          ],
          "scattergl": [
           {
            "marker": {
             "colorbar": {
              "outlinewidth": 0,
              "tickcolor": "rgb(237,237,237)",
              "ticklen": 6,
              "ticks": "inside"
             }
            },
            "type": "scattergl"
           }
          ],
          "scattermapbox": [
           {
            "marker": {
             "colorbar": {
              "outlinewidth": 0,
              "tickcolor": "rgb(237,237,237)",
              "ticklen": 6,
              "ticks": "inside"
             }
            },
            "type": "scattermapbox"
           }
          ],
          "scatterpolar": [
           {
            "marker": {
             "colorbar": {
              "outlinewidth": 0,
              "tickcolor": "rgb(237,237,237)",
              "ticklen": 6,
              "ticks": "inside"
             }
            },
            "type": "scatterpolar"
           }
          ],
          "scatterpolargl": [
           {
            "marker": {
             "colorbar": {
              "outlinewidth": 0,
              "tickcolor": "rgb(237,237,237)",
              "ticklen": 6,
              "ticks": "inside"
             }
            },
            "type": "scatterpolargl"
           }
          ],
          "scatterternary": [
           {
            "marker": {
             "colorbar": {
              "outlinewidth": 0,
              "tickcolor": "rgb(237,237,237)",
              "ticklen": 6,
              "ticks": "inside"
             }
            },
            "type": "scatterternary"
           }
          ],
          "surface": [
           {
            "colorbar": {
             "outlinewidth": 0,
             "tickcolor": "rgb(237,237,237)",
             "ticklen": 6,
             "ticks": "inside"
            },
            "colorscale": [
             [
              0,
              "rgb(20,44,66)"
             ],
             [
              1,
              "rgb(90,179,244)"
             ]
            ],
            "type": "surface"
           }
          ],
          "table": [
           {
            "cells": {
             "fill": {
              "color": "rgb(237,237,237)"
             },
             "line": {
              "color": "white"
             }
            },
            "header": {
             "fill": {
              "color": "rgb(217,217,217)"
             },
             "line": {
              "color": "white"
             }
            },
            "type": "table"
           }
          ]
         },
         "layout": {
          "annotationdefaults": {
           "arrowhead": 0,
           "arrowwidth": 1
          },
          "autotypenumbers": "strict",
          "coloraxis": {
           "colorbar": {
            "outlinewidth": 0,
            "tickcolor": "rgb(237,237,237)",
            "ticklen": 6,
            "ticks": "inside"
           }
          },
          "colorscale": {
           "sequential": [
            [
             0,
             "rgb(20,44,66)"
            ],
            [
             1,
             "rgb(90,179,244)"
            ]
           ],
           "sequentialminus": [
            [
             0,
             "rgb(20,44,66)"
            ],
            [
             1,
             "rgb(90,179,244)"
            ]
           ]
          },
          "colorway": [
           "#F8766D",
           "#A3A500",
           "#00BF7D",
           "#00B0F6",
           "#E76BF3"
          ],
          "font": {
           "color": "rgb(51,51,51)"
          },
          "geo": {
           "bgcolor": "white",
           "lakecolor": "white",
           "landcolor": "rgb(237,237,237)",
           "showlakes": true,
           "showland": true,
           "subunitcolor": "white"
          },
          "hoverlabel": {
           "align": "left"
          },
          "hovermode": "closest",
          "paper_bgcolor": "white",
          "plot_bgcolor": "rgb(237,237,237)",
          "polar": {
           "angularaxis": {
            "gridcolor": "white",
            "linecolor": "white",
            "showgrid": true,
            "tickcolor": "rgb(51,51,51)",
            "ticks": "outside"
           },
           "bgcolor": "rgb(237,237,237)",
           "radialaxis": {
            "gridcolor": "white",
            "linecolor": "white",
            "showgrid": true,
            "tickcolor": "rgb(51,51,51)",
            "ticks": "outside"
           }
          },
          "scene": {
           "xaxis": {
            "backgroundcolor": "rgb(237,237,237)",
            "gridcolor": "white",
            "gridwidth": 2,
            "linecolor": "white",
            "showbackground": true,
            "showgrid": true,
            "tickcolor": "rgb(51,51,51)",
            "ticks": "outside",
            "zerolinecolor": "white"
           },
           "yaxis": {
            "backgroundcolor": "rgb(237,237,237)",
            "gridcolor": "white",
            "gridwidth": 2,
            "linecolor": "white",
            "showbackground": true,
            "showgrid": true,
            "tickcolor": "rgb(51,51,51)",
            "ticks": "outside",
            "zerolinecolor": "white"
           },
           "zaxis": {
            "backgroundcolor": "rgb(237,237,237)",
            "gridcolor": "white",
            "gridwidth": 2,
            "linecolor": "white",
            "showbackground": true,
            "showgrid": true,
            "tickcolor": "rgb(51,51,51)",
            "ticks": "outside",
            "zerolinecolor": "white"
           }
          },
          "shapedefaults": {
           "fillcolor": "black",
           "line": {
            "width": 0
           },
           "opacity": 0.3
          },
          "ternary": {
           "aaxis": {
            "gridcolor": "white",
            "linecolor": "white",
            "showgrid": true,
            "tickcolor": "rgb(51,51,51)",
            "ticks": "outside"
           },
           "baxis": {
            "gridcolor": "white",
            "linecolor": "white",
            "showgrid": true,
            "tickcolor": "rgb(51,51,51)",
            "ticks": "outside"
           },
           "bgcolor": "rgb(237,237,237)",
           "caxis": {
            "gridcolor": "white",
            "linecolor": "white",
            "showgrid": true,
            "tickcolor": "rgb(51,51,51)",
            "ticks": "outside"
           }
          },
          "xaxis": {
           "automargin": true,
           "gridcolor": "white",
           "linecolor": "white",
           "showgrid": true,
           "tickcolor": "rgb(51,51,51)",
           "ticks": "outside",
           "title": {
            "standoff": 15
           },
           "zerolinecolor": "white"
          },
          "yaxis": {
           "automargin": true,
           "gridcolor": "white",
           "linecolor": "white",
           "showgrid": true,
           "tickcolor": "rgb(51,51,51)",
           "ticks": "outside",
           "title": {
            "standoff": 15
           },
           "zerolinecolor": "white"
          }
         }
        },
        "xaxis": {
         "anchor": "y",
         "domain": [
          0,
          1
         ],
         "side": "bottom",
         "title": {
          "text": "Predicted Label"
         }
        },
        "yaxis": {
         "anchor": "x",
         "autorange": "reversed",
         "domain": [
          0,
          1
         ],
         "title": {
          "text": "Correct Label"
         }
        }
       }
      }
     },
     "metadata": {},
     "output_type": "display_data"
    }
   ],
   "source": [
    "print('recall score: ', recall_score(y_test,y_pred, pos_label=1))\n",
    "print('f1 score: ', f1_score(y_test,y_pred, pos_label=1))\n",
    "print('accuracy score: ', accuracy_score(y_test,y_pred))\n",
    "print('f1 macro: ', f1_score(y_test,y_pred, average='macro'))\n",
    "print('precision score: ', precision_score(y_test,y_pred,  average='macro'))\n",
    "print('recall macro: ', recall_score(y_test,y_pred,  average='macro'))\n",
    "\n",
    "fig = px.imshow(np.around(confusion_matrix(y_test, y_pred, normalize='true'),2), \n",
    "                template='ggplot2',\n",
    "                text_auto=True, \n",
    "                aspect=\"True\", \n",
    "                labels=dict(x=\"Predicted Label\", y=\"Correct Label\", color='Value'))\n",
    "fig.update_xaxes(side=\"bottom\")\n",
    "fig.show()"
   ]
  }
 ],
 "metadata": {
  "kernelspec": {
   "display_name": "Python 3",
   "language": "python",
   "name": "python3"
  },
  "language_info": {
   "codemirror_mode": {
    "name": "ipython",
    "version": 3
   },
   "file_extension": ".py",
   "mimetype": "text/x-python",
   "name": "python",
   "nbconvert_exporter": "python",
   "pygments_lexer": "ipython3",
   "version": "3.11.1"
  },
  "orig_nbformat": 4
 },
 "nbformat": 4,
 "nbformat_minor": 2
}
