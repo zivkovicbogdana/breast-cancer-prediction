{
 "cells": [
  {
   "attachments": {},
   "cell_type": "markdown",
   "metadata": {},
   "source": [
    "## Importing Libraries"
   ]
  },
  {
   "cell_type": "code",
   "execution_count": 1665,
   "metadata": {},
   "outputs": [],
   "source": [
    "import pandas as pd\n",
    "from sklearn.model_selection import train_test_split, GridSearchCV\n",
    "from sklearn.preprocessing import MinMaxScaler\n",
    "from sklearn.ensemble import RandomForestClassifier\n",
    "from sklearn.metrics import confusion_matrix, f1_score, accuracy_score, precision_score, recall_score, jaccard_score\n",
    "import plotly.express as px\n",
    "import numpy as np\n",
    "from collections import Counter\n",
    "from matplotlib import pyplot as plt\n",
    "import seaborn as sns\n",
    "from graphviz import Digraph"
   ]
  },
  {
   "attachments": {},
   "cell_type": "markdown",
   "metadata": {},
   "source": [
    "## Loading the Data"
   ]
  },
  {
   "cell_type": "code",
   "execution_count": 1666,
   "metadata": {},
   "outputs": [
    {
     "data": {
      "text/html": [
       "<div>\n",
       "<style scoped>\n",
       "    .dataframe tbody tr th:only-of-type {\n",
       "        vertical-align: middle;\n",
       "    }\n",
       "\n",
       "    .dataframe tbody tr th {\n",
       "        vertical-align: top;\n",
       "    }\n",
       "\n",
       "    .dataframe thead th {\n",
       "        text-align: right;\n",
       "    }\n",
       "</style>\n",
       "<table border=\"1\" class=\"dataframe\">\n",
       "  <thead>\n",
       "    <tr style=\"text-align: right;\">\n",
       "      <th></th>\n",
       "      <th>Age</th>\n",
       "      <th>Race</th>\n",
       "      <th>Marital Status</th>\n",
       "      <th>T Stage</th>\n",
       "      <th>N Stage</th>\n",
       "      <th>6th Stage</th>\n",
       "      <th>differentiate</th>\n",
       "      <th>Grade</th>\n",
       "      <th>A Stage</th>\n",
       "      <th>Tumor Size</th>\n",
       "      <th>Estrogen Status</th>\n",
       "      <th>Progesterone Status</th>\n",
       "      <th>Regional Node Examined</th>\n",
       "      <th>Reginol Node Positive</th>\n",
       "      <th>Survival Months</th>\n",
       "      <th>Status</th>\n",
       "    </tr>\n",
       "  </thead>\n",
       "  <tbody>\n",
       "    <tr>\n",
       "      <th>0</th>\n",
       "      <td>68</td>\n",
       "      <td>White</td>\n",
       "      <td>Married</td>\n",
       "      <td>T1</td>\n",
       "      <td>N1</td>\n",
       "      <td>IIA</td>\n",
       "      <td>Poorly differentiated</td>\n",
       "      <td>3</td>\n",
       "      <td>Regional</td>\n",
       "      <td>4</td>\n",
       "      <td>Positive</td>\n",
       "      <td>Positive</td>\n",
       "      <td>24</td>\n",
       "      <td>1</td>\n",
       "      <td>60</td>\n",
       "      <td>Alive</td>\n",
       "    </tr>\n",
       "    <tr>\n",
       "      <th>1</th>\n",
       "      <td>50</td>\n",
       "      <td>White</td>\n",
       "      <td>Married</td>\n",
       "      <td>T2</td>\n",
       "      <td>N2</td>\n",
       "      <td>IIIA</td>\n",
       "      <td>Moderately differentiated</td>\n",
       "      <td>2</td>\n",
       "      <td>Regional</td>\n",
       "      <td>35</td>\n",
       "      <td>Positive</td>\n",
       "      <td>Positive</td>\n",
       "      <td>14</td>\n",
       "      <td>5</td>\n",
       "      <td>62</td>\n",
       "      <td>Alive</td>\n",
       "    </tr>\n",
       "    <tr>\n",
       "      <th>2</th>\n",
       "      <td>58</td>\n",
       "      <td>White</td>\n",
       "      <td>Divorced</td>\n",
       "      <td>T3</td>\n",
       "      <td>N3</td>\n",
       "      <td>IIIC</td>\n",
       "      <td>Moderately differentiated</td>\n",
       "      <td>2</td>\n",
       "      <td>Regional</td>\n",
       "      <td>63</td>\n",
       "      <td>Positive</td>\n",
       "      <td>Positive</td>\n",
       "      <td>14</td>\n",
       "      <td>7</td>\n",
       "      <td>75</td>\n",
       "      <td>Alive</td>\n",
       "    </tr>\n",
       "    <tr>\n",
       "      <th>3</th>\n",
       "      <td>58</td>\n",
       "      <td>White</td>\n",
       "      <td>Married</td>\n",
       "      <td>T1</td>\n",
       "      <td>N1</td>\n",
       "      <td>IIA</td>\n",
       "      <td>Poorly differentiated</td>\n",
       "      <td>3</td>\n",
       "      <td>Regional</td>\n",
       "      <td>18</td>\n",
       "      <td>Positive</td>\n",
       "      <td>Positive</td>\n",
       "      <td>2</td>\n",
       "      <td>1</td>\n",
       "      <td>84</td>\n",
       "      <td>Alive</td>\n",
       "    </tr>\n",
       "    <tr>\n",
       "      <th>4</th>\n",
       "      <td>47</td>\n",
       "      <td>White</td>\n",
       "      <td>Married</td>\n",
       "      <td>T2</td>\n",
       "      <td>N1</td>\n",
       "      <td>IIB</td>\n",
       "      <td>Poorly differentiated</td>\n",
       "      <td>3</td>\n",
       "      <td>Regional</td>\n",
       "      <td>41</td>\n",
       "      <td>Positive</td>\n",
       "      <td>Positive</td>\n",
       "      <td>3</td>\n",
       "      <td>1</td>\n",
       "      <td>50</td>\n",
       "      <td>Alive</td>\n",
       "    </tr>\n",
       "  </tbody>\n",
       "</table>\n",
       "</div>"
      ],
      "text/plain": [
       "   Age   Race Marital Status T Stage  N Stage 6th Stage  \\\n",
       "0   68  White        Married       T1      N1       IIA   \n",
       "1   50  White        Married       T2      N2      IIIA   \n",
       "2   58  White       Divorced       T3      N3      IIIC   \n",
       "3   58  White        Married       T1      N1       IIA   \n",
       "4   47  White        Married       T2      N1       IIB   \n",
       "\n",
       "               differentiate Grade   A Stage  Tumor Size Estrogen Status  \\\n",
       "0      Poorly differentiated     3  Regional           4        Positive   \n",
       "1  Moderately differentiated     2  Regional          35        Positive   \n",
       "2  Moderately differentiated     2  Regional          63        Positive   \n",
       "3      Poorly differentiated     3  Regional          18        Positive   \n",
       "4      Poorly differentiated     3  Regional          41        Positive   \n",
       "\n",
       "  Progesterone Status  Regional Node Examined  Reginol Node Positive  \\\n",
       "0            Positive                      24                      1   \n",
       "1            Positive                      14                      5   \n",
       "2            Positive                      14                      7   \n",
       "3            Positive                       2                      1   \n",
       "4            Positive                       3                      1   \n",
       "\n",
       "   Survival Months Status  \n",
       "0               60  Alive  \n",
       "1               62  Alive  \n",
       "2               75  Alive  \n",
       "3               84  Alive  \n",
       "4               50  Alive  "
      ]
     },
     "execution_count": 1666,
     "metadata": {},
     "output_type": "execute_result"
    }
   ],
   "source": [
    "df = pd.read_csv(\"Breast_Cancer.csv\", header=0, delimiter=',')\n",
    "df.head()"
   ]
  },
  {
   "attachments": {},
   "cell_type": "markdown",
   "metadata": {},
   "source": [
    "## Dataset Inspection"
   ]
  },
  {
   "cell_type": "code",
   "execution_count": 1667,
   "metadata": {},
   "outputs": [],
   "source": [
    "numerical_cols = ['Age','Tumor Size','Regional Node Examined','Reginol Node Positive','Survival Months']\n",
    "categorical_cols = ['Race','Marital Status','T Stage ','N Stage','6th Stage','differentiate','Grade','A Stage','Estrogen Status','Progesterone Status']"
   ]
  },
  {
   "cell_type": "code",
   "execution_count": 1668,
   "metadata": {},
   "outputs": [
    {
     "data": {
      "image/png": "[encoded data removed]",
      "text/plain": [
       "<Figure size 1600x1400 with 16 Axes>"
      ]
     },
     "metadata": {},
     "output_type": "display_data"
    }
   ],
   "source": [
    "fig, axes = plt.subplots(4,4,figsize=(16,14))\n",
    "\n",
    "for i, c in enumerate(df.columns):\n",
    "    ax = axes.reshape(-1)[i]\n",
    "    if c in categorical_cols:\n",
    "        ct = pd.crosstab(index=df[c], columns=df['Status'])\n",
    "        a = ct.plot(kind='bar', stacked=True,ax=ax)\n",
    "    else: \n",
    "        sns.histplot(x=c,data=df, hue='Status',ax=ax, multiple='stack')\n",
    "plt.tight_layout()"
   ]
  },
  {
   "cell_type": "code",
   "execution_count": 1669,
   "metadata": {},
   "outputs": [
    {
     "data": {
      "text/plain": [
       "<Axes: >"
      ]
     },
     "execution_count": 1669,
     "metadata": {},
     "output_type": "execute_result"
    },
    {
     "data": {
      "image/png": "[encoded data removed]",
      "text/plain": [
       "<Figure size 1400x800 with 1 Axes>"
      ]
     },
     "metadata": {},
     "output_type": "display_data"
    }
   ],
   "source": [
    "df.loc[:,numerical_cols].boxplot(figsize=(14,8))"
   ]
  },
  {
   "attachments": {},
   "cell_type": "markdown",
   "metadata": {},
   "source": [
    "## Transformations"
   ]
  },
  {
   "cell_type": "code",
   "execution_count": 1670,
   "metadata": {},
   "outputs": [
    {
     "data": {
      "text/plain": [
       "<Axes: ylabel='Frequency'>"
      ]
     },
     "execution_count": 1670,
     "metadata": {},
     "output_type": "execute_result"
    },
    {
     "data": {
      "image/png": "[encoded data removed]",
      "text/plain": [
       "<Figure size 640x480 with 1 Axes>"
      ]
     },
     "metadata": {},
     "output_type": "display_data"
    }
   ],
   "source": [
    "df['Regional Node Examined'] = df['Regional Node Examined'].apply('log')\n",
    "df['Regional Node Examined'].plot.hist()\n"
   ]
  },
  {
   "cell_type": "code",
   "execution_count": 1671,
   "metadata": {},
   "outputs": [
    {
     "data": {
      "text/plain": [
       "<Axes: ylabel='Frequency'>"
      ]
     },
     "execution_count": 1671,
     "metadata": {},
     "output_type": "execute_result"
    },
    {
     "data": {
      "image/png": "[encoded data removed]",
      "text/plain": [
       "<Figure size 640x480 with 1 Axes>"
      ]
     },
     "metadata": {},
     "output_type": "display_data"
    }
   ],
   "source": [
    "df['Tumor Size'] = df['Tumor Size'].apply('log')\n",
    "df['Tumor Size'].plot.hist()"
   ]
  },
  {
   "attachments": {},
   "cell_type": "markdown",
   "metadata": {},
   "source": [
    "## Train Test Split"
   ]
  },
  {
   "cell_type": "code",
   "execution_count": 1672,
   "metadata": {},
   "outputs": [],
   "source": [
    "X = df.loc[:,df.columns != 'Status']\n",
    "y = df['Status']\n",
    "\n",
    "X_train, X_test, y_train, y_test = train_test_split(X, y, test_size=0.2, stratify=y, random_state=42)\n",
    "\n",
    "X_train, X_val, y_train, y_val = train_test_split(X_train, y_train, test_size=0.2, stratify=y_train, random_state=42)\n"
   ]
  },
  {
   "attachments": {},
   "cell_type": "markdown",
   "metadata": {},
   "source": [
    "## Outlier Detection"
   ]
  },
  {
   "cell_type": "code",
   "execution_count": 1673,
   "metadata": {},
   "outputs": [
    {
     "data": {
      "text/plain": [
       "<Axes: ylabel='Frequency'>"
      ]
     },
     "execution_count": 1673,
     "metadata": {},
     "output_type": "execute_result"
    },
    {
     "data": {
      "image/png": "[encoded data removed]",
      "text/plain": [
       "<Figure size 640x480 with 1 Axes>"
      ]
     },
     "metadata": {},
     "output_type": "display_data"
    }
   ],
   "source": [
    "# Calculate the IQR range\n",
    "Q1 = X_train['Tumor Size'].quantile(0.25)\n",
    "Q3 = X_train['Tumor Size'].quantile(0.75)\n",
    "IQR = Q3 - Q1\n",
    "\n",
    "# Define the lower and upper bounds for outliers\n",
    "lower_bound = Q1 - 1.5 * IQR\n",
    "upper_bound = Q3 + 1.5 * IQR\n",
    "\n",
    "# Detect outliers for 'Tumor Size'\n",
    "outliers_tumor_size = (X_train['Tumor Size'] < lower_bound) | (X_train['Tumor Size'] > upper_bound)\n",
    "\n",
    "# Remove outliers from 'Tumor Size'\n",
    "X_train = X_train[~outliers_tumor_size]\n",
    "y_train = y_train[~outliers_tumor_size]\n",
    "\n",
    "X_train['Tumor Size'].plot.hist()"
   ]
  },
  {
   "cell_type": "code",
   "execution_count": 1674,
   "metadata": {},
   "outputs": [
    {
     "data": {
      "text/plain": [
       "<Axes: ylabel='Frequency'>"
      ]
     },
     "execution_count": 1674,
     "metadata": {},
     "output_type": "execute_result"
    },
    {
     "data": {
      "image/png": "[encoded data removed]",
      "text/plain": [
       "<Figure size 640x480 with 1 Axes>"
      ]
     },
     "metadata": {},
     "output_type": "display_data"
    }
   ],
   "source": [
    "# Calculate the IQR range\n",
    "Q1 = X_train['Regional Node Examined'].quantile(0.25)\n",
    "Q3 = X_train['Regional Node Examined'].quantile(0.75)\n",
    "IQR = Q3 - Q1\n",
    "\n",
    "# Define the lower and upper bounds for outliers\n",
    "lower_bound = Q1 - 1.5 * IQR\n",
    "upper_bound = Q3 + 1.5 * IQR\n",
    "\n",
    "# Detect outliers for 'Regional Node Examined'\n",
    "outliers_regional_node = (X_train['Regional Node Examined'] < lower_bound) | (X_train['Regional Node Examined'] > upper_bound)\n",
    "\n",
    "# Remove outliers from 'Regional Node Examined'\n",
    "X_train = X_train[~outliers_regional_node]\n",
    "y_train = y_train[~outliers_regional_node]\n",
    "\n",
    "df['Regional Node Examined'].plot.hist()"
   ]
  },
  {
   "attachments": {},
   "cell_type": "markdown",
   "metadata": {},
   "source": [
    "## Preprocessing"
   ]
  },
  {
   "cell_type": "code",
   "execution_count": 1675,
   "metadata": {},
   "outputs": [
    {
     "data": {
      "text/html": [
       "<div>\n",
       "<style scoped>\n",
       "    .dataframe tbody tr th:only-of-type {\n",
       "        vertical-align: middle;\n",
       "    }\n",
       "\n",
       "    .dataframe tbody tr th {\n",
       "        vertical-align: top;\n",
       "    }\n",
       "\n",
       "    .dataframe thead th {\n",
       "        text-align: right;\n",
       "    }\n",
       "</style>\n",
       "<table border=\"1\" class=\"dataframe\">\n",
       "  <thead>\n",
       "    <tr style=\"text-align: right;\">\n",
       "      <th></th>\n",
       "      <th>Age</th>\n",
       "      <th>Tumor Size</th>\n",
       "      <th>Regional Node Examined</th>\n",
       "      <th>Reginol Node Positive</th>\n",
       "      <th>Survival Months</th>\n",
       "      <th>Race_Black</th>\n",
       "      <th>Race_Other</th>\n",
       "      <th>Race_White</th>\n",
       "      <th>Marital Status_Divorced</th>\n",
       "      <th>Marital Status_Married</th>\n",
       "      <th>...</th>\n",
       "      <th>Grade_ anaplastic; Grade IV</th>\n",
       "      <th>Grade_1</th>\n",
       "      <th>Grade_2</th>\n",
       "      <th>Grade_3</th>\n",
       "      <th>A Stage_Distant</th>\n",
       "      <th>A Stage_Regional</th>\n",
       "      <th>Estrogen Status_Negative</th>\n",
       "      <th>Estrogen Status_Positive</th>\n",
       "      <th>Progesterone Status_Negative</th>\n",
       "      <th>Progesterone Status_Positive</th>\n",
       "    </tr>\n",
       "  </thead>\n",
       "  <tbody>\n",
       "    <tr>\n",
       "      <th>844</th>\n",
       "      <td>0.794872</td>\n",
       "      <td>0.393154</td>\n",
       "      <td>0.479625</td>\n",
       "      <td>0.000000</td>\n",
       "      <td>0.924528</td>\n",
       "      <td>0</td>\n",
       "      <td>1</td>\n",
       "      <td>0</td>\n",
       "      <td>1</td>\n",
       "      <td>0</td>\n",
       "      <td>...</td>\n",
       "      <td>0</td>\n",
       "      <td>0</td>\n",
       "      <td>1</td>\n",
       "      <td>0</td>\n",
       "      <td>0</td>\n",
       "      <td>1</td>\n",
       "      <td>0</td>\n",
       "      <td>1</td>\n",
       "      <td>0</td>\n",
       "      <td>1</td>\n",
       "    </tr>\n",
       "    <tr>\n",
       "      <th>1993</th>\n",
       "      <td>0.256410</td>\n",
       "      <td>0.375611</td>\n",
       "      <td>0.293145</td>\n",
       "      <td>0.000000</td>\n",
       "      <td>0.471698</td>\n",
       "      <td>0</td>\n",
       "      <td>0</td>\n",
       "      <td>1</td>\n",
       "      <td>0</td>\n",
       "      <td>1</td>\n",
       "      <td>...</td>\n",
       "      <td>0</td>\n",
       "      <td>0</td>\n",
       "      <td>1</td>\n",
       "      <td>0</td>\n",
       "      <td>0</td>\n",
       "      <td>1</td>\n",
       "      <td>0</td>\n",
       "      <td>1</td>\n",
       "      <td>0</td>\n",
       "      <td>1</td>\n",
       "    </tr>\n",
       "    <tr>\n",
       "      <th>270</th>\n",
       "      <td>0.102564</td>\n",
       "      <td>0.762687</td>\n",
       "      <td>0.507318</td>\n",
       "      <td>0.177778</td>\n",
       "      <td>0.367925</td>\n",
       "      <td>0</td>\n",
       "      <td>0</td>\n",
       "      <td>1</td>\n",
       "      <td>0</td>\n",
       "      <td>1</td>\n",
       "      <td>...</td>\n",
       "      <td>0</td>\n",
       "      <td>0</td>\n",
       "      <td>1</td>\n",
       "      <td>0</td>\n",
       "      <td>1</td>\n",
       "      <td>0</td>\n",
       "      <td>0</td>\n",
       "      <td>1</td>\n",
       "      <td>0</td>\n",
       "      <td>1</td>\n",
       "    </tr>\n",
       "    <tr>\n",
       "      <th>1359</th>\n",
       "      <td>0.076923</td>\n",
       "      <td>0.268706</td>\n",
       "      <td>0.507318</td>\n",
       "      <td>0.022222</td>\n",
       "      <td>0.698113</td>\n",
       "      <td>0</td>\n",
       "      <td>0</td>\n",
       "      <td>1</td>\n",
       "      <td>0</td>\n",
       "      <td>1</td>\n",
       "      <td>...</td>\n",
       "      <td>0</td>\n",
       "      <td>1</td>\n",
       "      <td>0</td>\n",
       "      <td>0</td>\n",
       "      <td>0</td>\n",
       "      <td>1</td>\n",
       "      <td>0</td>\n",
       "      <td>1</td>\n",
       "      <td>0</td>\n",
       "      <td>1</td>\n",
       "    </tr>\n",
       "    <tr>\n",
       "      <th>2157</th>\n",
       "      <td>0.410256</td>\n",
       "      <td>0.831176</td>\n",
       "      <td>0.449521</td>\n",
       "      <td>0.022222</td>\n",
       "      <td>0.481132</td>\n",
       "      <td>0</td>\n",
       "      <td>0</td>\n",
       "      <td>1</td>\n",
       "      <td>0</td>\n",
       "      <td>1</td>\n",
       "      <td>...</td>\n",
       "      <td>0</td>\n",
       "      <td>0</td>\n",
       "      <td>1</td>\n",
       "      <td>0</td>\n",
       "      <td>0</td>\n",
       "      <td>1</td>\n",
       "      <td>0</td>\n",
       "      <td>1</td>\n",
       "      <td>0</td>\n",
       "      <td>1</td>\n",
       "    </tr>\n",
       "  </tbody>\n",
       "</table>\n",
       "<p>5 rows × 39 columns</p>\n",
       "</div>"
      ],
      "text/plain": [
       "           Age  Tumor Size  Regional Node Examined  Reginol Node Positive  \\\n",
       "844   0.794872    0.393154                0.479625               0.000000   \n",
       "1993  0.256410    0.375611                0.293145               0.000000   \n",
       "270   0.102564    0.762687                0.507318               0.177778   \n",
       "1359  0.076923    0.268706                0.507318               0.022222   \n",
       "2157  0.410256    0.831176                0.449521               0.022222   \n",
       "\n",
       "      Survival Months  Race_Black  Race_Other  Race_White  \\\n",
       "844          0.924528           0           1           0   \n",
       "1993         0.471698           0           0           1   \n",
       "270          0.367925           0           0           1   \n",
       "1359         0.698113           0           0           1   \n",
       "2157         0.481132           0           0           1   \n",
       "\n",
       "      Marital Status_Divorced  Marital Status_Married  ...  \\\n",
       "844                         1                       0  ...   \n",
       "1993                        0                       1  ...   \n",
       "270                         0                       1  ...   \n",
       "1359                        0                       1  ...   \n",
       "2157                        0                       1  ...   \n",
       "\n",
       "      Grade_ anaplastic; Grade IV  Grade_1  Grade_2  Grade_3  A Stage_Distant  \\\n",
       "844                             0        0        1        0                0   \n",
       "1993                            0        0        1        0                0   \n",
       "270                             0        0        1        0                1   \n",
       "1359                            0        1        0        0                0   \n",
       "2157                            0        0        1        0                0   \n",
       "\n",
       "      A Stage_Regional  Estrogen Status_Negative  Estrogen Status_Positive  \\\n",
       "844                  1                         0                         1   \n",
       "1993                 1                         0                         1   \n",
       "270                  0                         0                         1   \n",
       "1359                 1                         0                         1   \n",
       "2157                 1                         0                         1   \n",
       "\n",
       "      Progesterone Status_Negative  Progesterone Status_Positive  \n",
       "844                              0                             1  \n",
       "1993                             0                             1  \n",
       "270                              0                             1  \n",
       "1359                             0                             1  \n",
       "2157                             0                             1  \n",
       "\n",
       "[5 rows x 39 columns]"
      ]
     },
     "execution_count": 1675,
     "metadata": {},
     "output_type": "execute_result"
    }
   ],
   "source": [
    "def preprocessing(X, y, scaler=None):\n",
    "    # We scale all the columns\n",
    "    if scaler is None: \n",
    "        # We only want the scaler to fit the train data\n",
    "        scaler = MinMaxScaler()\n",
    "        X[numerical_cols] = scaler.fit_transform(X[numerical_cols])\n",
    "    else: \n",
    "        X[numerical_cols] = scaler.transform(X[numerical_cols])\n",
    "    # One Hot Encoding\n",
    "    X = pd.get_dummies(X, columns = categorical_cols)\n",
    "    # Encode output\n",
    "    status_map = {'Dead': 1, 'Alive': 0}\n",
    "    y = y.map(status_map)\n",
    "    y = y.rename('Dead')\n",
    "    return X, y, scaler\n",
    "\n",
    "X_train, y_train, scaler = preprocessing(X_train,y_train)\n",
    "X_val, y_val, _ = preprocessing(X_val, y_val, scaler)\n",
    "X_test, y_test, _ = preprocessing(X_test,y_test,scaler)\n",
    "X_train.head()"
   ]
  },
  {
   "attachments": {},
   "cell_type": "markdown",
   "metadata": {},
   "source": [
    "## Data Balancing"
   ]
  },
  {
   "cell_type": "code",
   "execution_count": 1676,
   "metadata": {},
   "outputs": [
    {
     "name": "stdout",
     "output_type": "stream",
     "text": [
      "Original dataset shape: Counter({0: 2006, 1: 368})\n"
     ]
    }
   ],
   "source": [
    "print('Original dataset shape:', Counter(y_train))"
   ]
  },
  {
   "cell_type": "code",
   "execution_count": 1677,
   "metadata": {},
   "outputs": [
    {
     "name": "stdout",
     "output_type": "stream",
     "text": [
      "Resampled dataset shape: Counter({1: 1626, 0: 1312})\n"
     ]
    }
   ],
   "source": [
    "from imblearn.combine import SMOTEENN\n",
    "\n",
    "# Apply SMOTEENN for combined oversampling and undersampling\n",
    "smote_enn = SMOTEENN(sampling_strategy='minority')\n",
    "X_train, y_train = smote_enn.fit_resample(X_train, y_train)\n",
    "\n",
    "print('Resampled dataset shape:', Counter(y_train))\n"
   ]
  },
  {
   "attachments": {},
   "cell_type": "markdown",
   "metadata": {},
   "source": [
    "## Support Functions"
   ]
  },
  {
   "cell_type": "code",
   "execution_count": 1678,
   "metadata": {},
   "outputs": [],
   "source": [
    "results_df = pd.DataFrame(index=[], columns= ['**Recall class 1**', '**F1 class 1**','Accuracy', 'F1 Macro', 'Precision Macro', 'Recall Macro'])"
   ]
  },
  {
   "cell_type": "code",
   "execution_count": 1679,
   "metadata": {},
   "outputs": [],
   "source": [
    "def compute_metrics(y_real,y_pred):\n",
    "    recall_class_1 =recall_score(y_real,y_pred, pos_label=1)\n",
    "    f1_class_1 =f1_score(y_real,y_pred, pos_label=1)\n",
    "    accuracy = accuracy_score(y_real,y_pred)\n",
    "    f1_macro =f1_score(y_real,y_pred, average='macro')\n",
    "    precison_macro =precision_score(y_real,y_pred,  average='macro')\n",
    "    recall_macro =recall_score(y_real,y_pred,  average='macro')\n",
    "    return [recall_class_1, f1_class_1, accuracy,f1_macro,precison_macro,recall_macro ]\n",
    "\n",
    "def confusion(true, pred):\n",
    "    \"\"\"\n",
    "    Function for pretty printing confusion matrices\n",
    "    \"\"\"\n",
    "    pred = pd.Series(pred)\n",
    "    true = pd.Series(true)\n",
    "    \n",
    "    true.name = 'target'\n",
    "    pred.name = 'predicted'\n",
    "    cm = pd.crosstab(true.reset_index(drop=True), pred.reset_index(drop=True))\n",
    "    cm = cm[cm.index]\n",
    "    return cm"
   ]
  },
  {
   "attachments": {},
   "cell_type": "markdown",
   "metadata": {},
   "source": [
    "## LDA"
   ]
  },
  {
   "cell_type": "code",
   "execution_count": 1680,
   "metadata": {},
   "outputs": [
    {
     "data": {
      "text/html": [
       "<div>\n",
       "<style scoped>\n",
       "    .dataframe tbody tr th:only-of-type {\n",
       "        vertical-align: middle;\n",
       "    }\n",
       "\n",
       "    .dataframe tbody tr th {\n",
       "        vertical-align: top;\n",
       "    }\n",
       "\n",
       "    .dataframe thead th {\n",
       "        text-align: right;\n",
       "    }\n",
       "</style>\n",
       "<table border=\"1\" class=\"dataframe\">\n",
       "  <thead>\n",
       "    <tr style=\"text-align: right;\">\n",
       "      <th></th>\n",
       "      <th>**Recall class 1**</th>\n",
       "      <th>**F1 class 1**</th>\n",
       "      <th>Accuracy</th>\n",
       "      <th>F1 Macro</th>\n",
       "      <th>Precision Macro</th>\n",
       "      <th>Recall Macro</th>\n",
       "    </tr>\n",
       "  </thead>\n",
       "  <tbody>\n",
       "    <tr>\n",
       "      <th>LDA</th>\n",
       "      <td>0.69697</td>\n",
       "      <td>0.570248</td>\n",
       "      <td>0.838509</td>\n",
       "      <td>0.735411</td>\n",
       "      <td>0.711319</td>\n",
       "      <td>0.780595</td>\n",
       "    </tr>\n",
       "  </tbody>\n",
       "</table>\n",
       "</div>"
      ],
      "text/plain": [
       "    **Recall class 1** **F1 class 1**  Accuracy  F1 Macro Precision Macro  \\\n",
       "LDA            0.69697       0.570248  0.838509  0.735411        0.711319   \n",
       "\n",
       "    Recall Macro  \n",
       "LDA     0.780595  "
      ]
     },
     "execution_count": 1680,
     "metadata": {},
     "output_type": "execute_result"
    }
   ],
   "source": [
    "from sklearn.discriminant_analysis import LinearDiscriminantAnalysis\n",
    "\n",
    "lda_model = LinearDiscriminantAnalysis()\n",
    "lda_model.fit(X_train, y_train)\n",
    "y_pred_lda = lda_model.predict(X_val)\n",
    "results_df.loc['LDA',:] = compute_metrics(y_val, y_pred_lda)\n",
    "results_df"
   ]
  },
  {
   "cell_type": "code",
   "execution_count": 1681,
   "metadata": {},
   "outputs": [
    {
     "data": {
      "text/html": [
       "<div>\n",
       "<style scoped>\n",
       "    .dataframe tbody tr th:only-of-type {\n",
       "        vertical-align: middle;\n",
       "    }\n",
       "\n",
       "    .dataframe tbody tr th {\n",
       "        vertical-align: top;\n",
       "    }\n",
       "\n",
       "    .dataframe thead th {\n",
       "        text-align: right;\n",
       "    }\n",
       "</style>\n",
       "<table border=\"1\" class=\"dataframe\">\n",
       "  <thead>\n",
       "    <tr style=\"text-align: right;\">\n",
       "      <th>predicted</th>\n",
       "      <th>0</th>\n",
       "      <th>1</th>\n",
       "    </tr>\n",
       "    <tr>\n",
       "      <th>target</th>\n",
       "      <th></th>\n",
       "      <th></th>\n",
       "    </tr>\n",
       "  </thead>\n",
       "  <tbody>\n",
       "    <tr>\n",
       "      <th>0</th>\n",
       "      <td>471</td>\n",
       "      <td>74</td>\n",
       "    </tr>\n",
       "    <tr>\n",
       "      <th>1</th>\n",
       "      <td>30</td>\n",
       "      <td>69</td>\n",
       "    </tr>\n",
       "  </tbody>\n",
       "</table>\n",
       "</div>"
      ],
      "text/plain": [
       "predicted    0   1\n",
       "target            \n",
       "0          471  74\n",
       "1           30  69"
      ]
     },
     "execution_count": 1681,
     "metadata": {},
     "output_type": "execute_result"
    }
   ],
   "source": [
    "# Confusion matrix\n",
    "confusion(y_val, y_pred_lda)"
   ]
  },
  {
   "cell_type": "code",
   "execution_count": 1682,
   "metadata": {},
   "outputs": [
    {
     "data": {
      "text/html": [
       "<div>\n",
       "<style scoped>\n",
       "    .dataframe tbody tr th:only-of-type {\n",
       "        vertical-align: middle;\n",
       "    }\n",
       "\n",
       "    .dataframe tbody tr th {\n",
       "        vertical-align: top;\n",
       "    }\n",
       "\n",
       "    .dataframe thead th {\n",
       "        text-align: right;\n",
       "    }\n",
       "</style>\n",
       "<table border=\"1\" class=\"dataframe\">\n",
       "  <thead>\n",
       "    <tr style=\"text-align: right;\">\n",
       "      <th></th>\n",
       "      <th>0</th>\n",
       "      <th>labels</th>\n",
       "    </tr>\n",
       "  </thead>\n",
       "  <tbody>\n",
       "    <tr>\n",
       "      <th>0</th>\n",
       "      <td>-1.830650</td>\n",
       "      <td>0</td>\n",
       "    </tr>\n",
       "    <tr>\n",
       "      <th>1</th>\n",
       "      <td>-0.705094</td>\n",
       "      <td>0</td>\n",
       "    </tr>\n",
       "    <tr>\n",
       "      <th>2</th>\n",
       "      <td>-2.670494</td>\n",
       "      <td>0</td>\n",
       "    </tr>\n",
       "    <tr>\n",
       "      <th>3</th>\n",
       "      <td>-0.939160</td>\n",
       "      <td>0</td>\n",
       "    </tr>\n",
       "    <tr>\n",
       "      <th>4</th>\n",
       "      <td>-1.756839</td>\n",
       "      <td>0</td>\n",
       "    </tr>\n",
       "    <tr>\n",
       "      <th>...</th>\n",
       "      <td>...</td>\n",
       "      <td>...</td>\n",
       "    </tr>\n",
       "    <tr>\n",
       "      <th>2933</th>\n",
       "      <td>1.165138</td>\n",
       "      <td>1</td>\n",
       "    </tr>\n",
       "    <tr>\n",
       "      <th>2934</th>\n",
       "      <td>1.922890</td>\n",
       "      <td>1</td>\n",
       "    </tr>\n",
       "    <tr>\n",
       "      <th>2935</th>\n",
       "      <td>0.758221</td>\n",
       "      <td>1</td>\n",
       "    </tr>\n",
       "    <tr>\n",
       "      <th>2936</th>\n",
       "      <td>1.749817</td>\n",
       "      <td>1</td>\n",
       "    </tr>\n",
       "    <tr>\n",
       "      <th>2937</th>\n",
       "      <td>0.749070</td>\n",
       "      <td>1</td>\n",
       "    </tr>\n",
       "  </tbody>\n",
       "</table>\n",
       "<p>2938 rows × 2 columns</p>\n",
       "</div>"
      ],
      "text/plain": [
       "             0  labels\n",
       "0    -1.830650       0\n",
       "1    -0.705094       0\n",
       "2    -2.670494       0\n",
       "3    -0.939160       0\n",
       "4    -1.756839       0\n",
       "...        ...     ...\n",
       "2933  1.165138       1\n",
       "2934  1.922890       1\n",
       "2935  0.758221       1\n",
       "2936  1.749817       1\n",
       "2937  0.749070       1\n",
       "\n",
       "[2938 rows x 2 columns]"
      ]
     },
     "execution_count": 1682,
     "metadata": {},
     "output_type": "execute_result"
    }
   ],
   "source": [
    "# Exploring LDA\n",
    "X_transformed = lda_model.transform(X_train)\n",
    "\n",
    "X_transformed = pd.DataFrame(X_transformed)\n",
    "X_transformed['labels'] = y_train.reset_index(drop=True)\n",
    "X_transformed"
   ]
  },
  {
   "cell_type": "code",
   "execution_count": 1683,
   "metadata": {},
   "outputs": [
    {
     "data": {
      "text/plain": [
       "<Axes: xlabel='0'>"
      ]
     },
     "execution_count": 1683,
     "metadata": {},
     "output_type": "execute_result"
    },
    {
     "data": {
      "image/png": "[encoded data removed]",
      "text/plain": [
       "<Figure size 640x480 with 1 Axes>"
      ]
     },
     "metadata": {},
     "output_type": "display_data"
    }
   ],
   "source": [
    "sns.scatterplot(x= 0, y= 1, data = X_transformed, hue='labels')"
   ]
  },
  {
   "attachments": {},
   "cell_type": "markdown",
   "metadata": {},
   "source": [
    "## KNN"
   ]
  },
  {
   "cell_type": "code",
   "execution_count": 1684,
   "metadata": {},
   "outputs": [
    {
     "name": "stdout",
     "output_type": "stream",
     "text": [
      "         **Recall class 1** **F1 class 1**  Accuracy  F1 Macro  \\\n",
      "model k                                                          \n",
      "KNN   15            0.79798       0.417989  0.658385  0.588116   \n",
      "      23            0.79798       0.432877  0.678571  0.604304   \n",
      "      21           0.787879       0.432133  0.681677  0.605495   \n",
      "      19           0.787879       0.432133  0.681677  0.605495   \n",
      "      17           0.787879        0.42623  0.673913  0.599232   \n",
      "      13           0.777778       0.418478  0.667702  0.592935   \n",
      "      11           0.767677       0.411924  0.663043  0.587899   \n",
      "      25           0.757576       0.415512   0.67236  0.593948   \n",
      "      9            0.747475        0.40327  0.659938  0.582742   \n",
      "      5            0.747475       0.414566  0.675466  0.595038   \n",
      "      27           0.747475       0.412256   0.67236  0.592565   \n",
      "      7            0.737374       0.404432  0.666149  0.586251   \n",
      "      29           0.737374       0.412429  0.677019  0.594866   \n",
      "      33           0.737374       0.412429  0.677019  0.594866   \n",
      "      3            0.727273       0.426036  0.698758  0.610912   \n",
      "      31           0.727273        0.40678  0.673913   0.59097   \n",
      "      39           0.727273        0.40678  0.673913   0.59097   \n",
      "      47           0.707071       0.410557  0.687888  0.599154   \n",
      "      35           0.707071       0.406977   0.68323  0.595438   \n",
      "      37           0.707071       0.406977   0.68323  0.595438   \n",
      "      41           0.707071       0.397727  0.670807  0.585616   \n",
      "      49            0.69697       0.405882  0.686335  0.596401   \n",
      "      43            0.69697       0.413174  0.695652  0.603861   \n",
      "      45           0.686869        0.40597  0.690994  0.598578   \n",
      "      1            0.676768       0.428115   0.72205  0.622263   \n",
      "\n",
      "         Precision Macro Recall Macro  \n",
      "model k                                \n",
      "KNN   15         0.61418     0.715504  \n",
      "      23        0.622041      0.72743  \n",
      "      21        0.621368     0.725132  \n",
      "      19        0.621368     0.725132  \n",
      "      17        0.618216     0.720545  \n",
      "      13        0.613789     0.712742  \n",
      "      11        0.609992     0.705857  \n",
      "      25        0.611716     0.707228  \n",
      "      9         0.604815     0.695756  \n",
      "      5         0.611027      0.70493  \n",
      "      27        0.609756     0.703095  \n",
      "      7         0.605282     0.695292  \n",
      "      29        0.609718     0.701714  \n",
      "      33        0.609718     0.701714  \n",
      "      3         0.617294     0.710425  \n",
      "      31        0.606472     0.695746  \n",
      "      39        0.606472     0.695746  \n",
      "      47        0.608558     0.695737  \n",
      "      35        0.606516     0.692985  \n",
      "      37        0.606516     0.692985  \n",
      "      41        0.601256     0.685645  \n",
      "      49        0.605933     0.690687  \n",
      "      43        0.610134     0.696191  \n",
      "      45        0.606078     0.689306  \n",
      "      1         0.619333     0.703521  \n"
     ]
    }
   ],
   "source": [
    "from sklearn.neighbors import KNeighborsClassifier\n",
    "\n",
    "\n",
    "index= pd.MultiIndex.from_arrays([[], []], names=('model', 'k'))\n",
    "results_knn = pd.DataFrame(index=index, columns= ['**Recall class 1**', '**F1 class 1**','Accuracy', 'F1 Macro', 'Precision Macro', 'Recall Macro'])\n",
    "\n",
    "k_values = range(1,50,2)\n",
    "\n",
    "for k in k_values:\n",
    "    knn = KNeighborsClassifier(n_neighbors=k, metric='minkowski')\n",
    "    knn = knn.fit(X_train,y_train)\n",
    "    y_pred = knn.predict(X_val)\n",
    "    results_knn.loc[('KNN',k), :] = compute_metrics(y_val, y_pred)\n",
    "\n",
    "sorted_results_knn = results_knn.sort_values(by='**Recall class 1**', ascending=False)\n",
    "print(sorted_results_knn)"
   ]
  },
  {
   "cell_type": "code",
   "execution_count": 1685,
   "metadata": {},
   "outputs": [
    {
     "name": "stdout",
     "output_type": "stream",
     "text": [
      "k value of the first row: 15\n"
     ]
    },
    {
     "data": {
      "text/html": [
       "<div>\n",
       "<style scoped>\n",
       "    .dataframe tbody tr th:only-of-type {\n",
       "        vertical-align: middle;\n",
       "    }\n",
       "\n",
       "    .dataframe tbody tr th {\n",
       "        vertical-align: top;\n",
       "    }\n",
       "\n",
       "    .dataframe thead th {\n",
       "        text-align: right;\n",
       "    }\n",
       "</style>\n",
       "<table border=\"1\" class=\"dataframe\">\n",
       "  <thead>\n",
       "    <tr style=\"text-align: right;\">\n",
       "      <th></th>\n",
       "      <th>**Recall class 1**</th>\n",
       "      <th>**F1 class 1**</th>\n",
       "      <th>Accuracy</th>\n",
       "      <th>F1 Macro</th>\n",
       "      <th>Precision Macro</th>\n",
       "      <th>Recall Macro</th>\n",
       "    </tr>\n",
       "  </thead>\n",
       "  <tbody>\n",
       "    <tr>\n",
       "      <th>KNN-15</th>\n",
       "      <td>0.79798</td>\n",
       "      <td>0.417989</td>\n",
       "      <td>0.658385</td>\n",
       "      <td>0.588116</td>\n",
       "      <td>0.61418</td>\n",
       "      <td>0.715504</td>\n",
       "    </tr>\n",
       "    <tr>\n",
       "      <th>LDA</th>\n",
       "      <td>0.69697</td>\n",
       "      <td>0.570248</td>\n",
       "      <td>0.838509</td>\n",
       "      <td>0.735411</td>\n",
       "      <td>0.711319</td>\n",
       "      <td>0.780595</td>\n",
       "    </tr>\n",
       "  </tbody>\n",
       "</table>\n",
       "</div>"
      ],
      "text/plain": [
       "       **Recall class 1** **F1 class 1**  Accuracy  F1 Macro Precision Macro  \\\n",
       "KNN-15            0.79798       0.417989  0.658385  0.588116         0.61418   \n",
       "LDA               0.69697       0.570248  0.838509  0.735411        0.711319   \n",
       "\n",
       "       Recall Macro  \n",
       "KNN-15     0.715504  \n",
       "LDA        0.780595  "
      ]
     },
     "execution_count": 1685,
     "metadata": {},
     "output_type": "execute_result"
    }
   ],
   "source": [
    "\n",
    "# Retrieve the k value of the first row\n",
    "first_row = sorted_results_knn.iloc[0]\n",
    "k_value = first_row.name[1]\n",
    "\n",
    "print(\"k value of the first row:\", k_value)\n",
    "\n",
    "knn = KNeighborsClassifier(n_neighbors=k_value)\n",
    "knn = knn.fit(X_train,y_train)\n",
    "y_pred_knn = knn.predict(X_val)\n",
    "results_df.loc['KNN-'+str(k_value), :] = compute_metrics(y_val, y_pred_knn)\n",
    "results_df.sort_values(by='**Recall class 1**', ascending=False)"
   ]
  },
  {
   "cell_type": "code",
   "execution_count": 1686,
   "metadata": {},
   "outputs": [
    {
     "data": {
      "text/html": [
       "<div>\n",
       "<style scoped>\n",
       "    .dataframe tbody tr th:only-of-type {\n",
       "        vertical-align: middle;\n",
       "    }\n",
       "\n",
       "    .dataframe tbody tr th {\n",
       "        vertical-align: top;\n",
       "    }\n",
       "\n",
       "    .dataframe thead th {\n",
       "        text-align: right;\n",
       "    }\n",
       "</style>\n",
       "<table border=\"1\" class=\"dataframe\">\n",
       "  <thead>\n",
       "    <tr style=\"text-align: right;\">\n",
       "      <th>predicted</th>\n",
       "      <th>0</th>\n",
       "      <th>1</th>\n",
       "    </tr>\n",
       "    <tr>\n",
       "      <th>target</th>\n",
       "      <th></th>\n",
       "      <th></th>\n",
       "    </tr>\n",
       "  </thead>\n",
       "  <tbody>\n",
       "    <tr>\n",
       "      <th>0</th>\n",
       "      <td>345</td>\n",
       "      <td>200</td>\n",
       "    </tr>\n",
       "    <tr>\n",
       "      <th>1</th>\n",
       "      <td>20</td>\n",
       "      <td>79</td>\n",
       "    </tr>\n",
       "  </tbody>\n",
       "</table>\n",
       "</div>"
      ],
      "text/plain": [
       "predicted    0    1\n",
       "target             \n",
       "0          345  200\n",
       "1           20   79"
      ]
     },
     "execution_count": 1686,
     "metadata": {},
     "output_type": "execute_result"
    }
   ],
   "source": [
    "# Confusion matrix\n",
    "confusion(y_val, y_pred_knn)"
   ]
  },
  {
   "attachments": {},
   "cell_type": "markdown",
   "metadata": {},
   "source": [
    "## Logistic Regression"
   ]
  },
  {
   "cell_type": "code",
   "execution_count": 1687,
   "metadata": {},
   "outputs": [
    {
     "data": {
      "text/html": [
       "<div>\n",
       "<style scoped>\n",
       "    .dataframe tbody tr th:only-of-type {\n",
       "        vertical-align: middle;\n",
       "    }\n",
       "\n",
       "    .dataframe tbody tr th {\n",
       "        vertical-align: top;\n",
       "    }\n",
       "\n",
       "    .dataframe thead th {\n",
       "        text-align: right;\n",
       "    }\n",
       "</style>\n",
       "<table border=\"1\" class=\"dataframe\">\n",
       "  <thead>\n",
       "    <tr style=\"text-align: right;\">\n",
       "      <th></th>\n",
       "      <th></th>\n",
       "      <th>**Recall class 1**</th>\n",
       "      <th>**F1 class 1**</th>\n",
       "      <th>Accuracy</th>\n",
       "      <th>F1 Macro</th>\n",
       "      <th>Precision Macro</th>\n",
       "      <th>Recall Macro</th>\n",
       "    </tr>\n",
       "    <tr>\n",
       "      <th>model</th>\n",
       "      <th>C</th>\n",
       "      <th></th>\n",
       "      <th></th>\n",
       "      <th></th>\n",
       "      <th></th>\n",
       "      <th></th>\n",
       "      <th></th>\n",
       "    </tr>\n",
       "  </thead>\n",
       "  <tbody>\n",
       "    <tr>\n",
       "      <th rowspan=\"7\" valign=\"top\">LogReg</th>\n",
       "      <th>0.1</th>\n",
       "      <td>0.777778</td>\n",
       "      <td>0.501629</td>\n",
       "      <td>0.762422</td>\n",
       "      <td>0.672833</td>\n",
       "      <td>0.659867</td>\n",
       "      <td>0.768705</td>\n",
       "    </tr>\n",
       "    <tr>\n",
       "      <th>1.0</th>\n",
       "      <td>0.717172</td>\n",
       "      <td>0.527881</td>\n",
       "      <td>0.802795</td>\n",
       "      <td>0.701625</td>\n",
       "      <td>0.679288</td>\n",
       "      <td>0.76776</td>\n",
       "    </tr>\n",
       "    <tr>\n",
       "      <th>10.0</th>\n",
       "      <td>0.686869</td>\n",
       "      <td>0.53125</td>\n",
       "      <td>0.813665</td>\n",
       "      <td>0.707485</td>\n",
       "      <td>0.684733</td>\n",
       "      <td>0.761783</td>\n",
       "    </tr>\n",
       "    <tr>\n",
       "      <th>100000.0</th>\n",
       "      <td>0.666667</td>\n",
       "      <td>0.525896</td>\n",
       "      <td>0.815217</td>\n",
       "      <td>0.705571</td>\n",
       "      <td>0.683569</td>\n",
       "      <td>0.754434</td>\n",
       "    </tr>\n",
       "    <tr>\n",
       "      <th>10000.0</th>\n",
       "      <td>0.666667</td>\n",
       "      <td>0.52381</td>\n",
       "      <td>0.813665</td>\n",
       "      <td>0.70399</td>\n",
       "      <td>0.682081</td>\n",
       "      <td>0.753517</td>\n",
       "    </tr>\n",
       "    <tr>\n",
       "      <th>1000.0</th>\n",
       "      <td>0.666667</td>\n",
       "      <td>0.52381</td>\n",
       "      <td>0.813665</td>\n",
       "      <td>0.70399</td>\n",
       "      <td>0.682081</td>\n",
       "      <td>0.753517</td>\n",
       "    </tr>\n",
       "    <tr>\n",
       "      <th>100.0</th>\n",
       "      <td>0.666667</td>\n",
       "      <td>0.521739</td>\n",
       "      <td>0.812112</td>\n",
       "      <td>0.702415</td>\n",
       "      <td>0.680612</td>\n",
       "      <td>0.752599</td>\n",
       "    </tr>\n",
       "  </tbody>\n",
       "</table>\n",
       "</div>"
      ],
      "text/plain": [
       "                **Recall class 1** **F1 class 1**  Accuracy  F1 Macro  \\\n",
       "model  C                                                                \n",
       "LogReg 0.1                0.777778       0.501629  0.762422  0.672833   \n",
       "       1.0                0.717172       0.527881  0.802795  0.701625   \n",
       "       10.0               0.686869        0.53125  0.813665  0.707485   \n",
       "       100000.0           0.666667       0.525896  0.815217  0.705571   \n",
       "       10000.0            0.666667        0.52381  0.813665   0.70399   \n",
       "       1000.0             0.666667        0.52381  0.813665   0.70399   \n",
       "       100.0              0.666667       0.521739  0.812112  0.702415   \n",
       "\n",
       "                Precision Macro Recall Macro  \n",
       "model  C                                      \n",
       "LogReg 0.1             0.659867     0.768705  \n",
       "       1.0             0.679288      0.76776  \n",
       "       10.0            0.684733     0.761783  \n",
       "       100000.0        0.683569     0.754434  \n",
       "       10000.0         0.682081     0.753517  \n",
       "       1000.0          0.682081     0.753517  \n",
       "       100.0           0.680612     0.752599  "
      ]
     },
     "execution_count": 1687,
     "metadata": {},
     "output_type": "execute_result"
    }
   ],
   "source": [
    "from sklearn.linear_model import LogisticRegression\n",
    "\n",
    "\n",
    "index= pd.MultiIndex.from_arrays([[], []], names=('model', 'C'))\n",
    "results_logreg = pd.DataFrame(index=index, columns= ['**Recall class 1**', '**F1 class 1**','Accuracy', 'F1 Macro', 'Precision Macro', 'Recall Macro'])\n",
    "\n",
    "lambdas = [0.00001, 0.0001, 0.001, 0.01, 0.1, 1, 10]\n",
    "\n",
    "for l in lambdas:\n",
    "    C = 1/l\n",
    "    logreg = LogisticRegression(C=C, max_iter=1000, random_state=42)\n",
    "    logreg = logreg.fit(X_train,y_train)\n",
    "    y_pred = logreg.predict(X_val)\n",
    "    results_logreg.loc[('LogReg', C), :] = compute_metrics(y_val, y_pred)\n",
    "\n",
    "sorted_results_logreg = results_logreg.sort_values(by='**Recall class 1**', ascending=False)\n",
    "sorted_results_logreg"
   ]
  },
  {
   "cell_type": "code",
   "execution_count": 1688,
   "metadata": {},
   "outputs": [
    {
     "name": "stdout",
     "output_type": "stream",
     "text": [
      "c value of the first row: 0.1\n"
     ]
    },
    {
     "data": {
      "text/html": [
       "<div>\n",
       "<style scoped>\n",
       "    .dataframe tbody tr th:only-of-type {\n",
       "        vertical-align: middle;\n",
       "    }\n",
       "\n",
       "    .dataframe tbody tr th {\n",
       "        vertical-align: top;\n",
       "    }\n",
       "\n",
       "    .dataframe thead th {\n",
       "        text-align: right;\n",
       "    }\n",
       "</style>\n",
       "<table border=\"1\" class=\"dataframe\">\n",
       "  <thead>\n",
       "    <tr style=\"text-align: right;\">\n",
       "      <th></th>\n",
       "      <th>**Recall class 1**</th>\n",
       "      <th>**F1 class 1**</th>\n",
       "      <th>Accuracy</th>\n",
       "      <th>F1 Macro</th>\n",
       "      <th>Precision Macro</th>\n",
       "      <th>Recall Macro</th>\n",
       "    </tr>\n",
       "  </thead>\n",
       "  <tbody>\n",
       "    <tr>\n",
       "      <th>KNN-15</th>\n",
       "      <td>0.79798</td>\n",
       "      <td>0.417989</td>\n",
       "      <td>0.658385</td>\n",
       "      <td>0.588116</td>\n",
       "      <td>0.61418</td>\n",
       "      <td>0.715504</td>\n",
       "    </tr>\n",
       "    <tr>\n",
       "      <th>LogReg-0.1</th>\n",
       "      <td>0.777778</td>\n",
       "      <td>0.501629</td>\n",
       "      <td>0.762422</td>\n",
       "      <td>0.672833</td>\n",
       "      <td>0.659867</td>\n",
       "      <td>0.768705</td>\n",
       "    </tr>\n",
       "    <tr>\n",
       "      <th>LDA</th>\n",
       "      <td>0.69697</td>\n",
       "      <td>0.570248</td>\n",
       "      <td>0.838509</td>\n",
       "      <td>0.735411</td>\n",
       "      <td>0.711319</td>\n",
       "      <td>0.780595</td>\n",
       "    </tr>\n",
       "  </tbody>\n",
       "</table>\n",
       "</div>"
      ],
      "text/plain": [
       "           **Recall class 1** **F1 class 1**  Accuracy  F1 Macro  \\\n",
       "KNN-15                0.79798       0.417989  0.658385  0.588116   \n",
       "LogReg-0.1           0.777778       0.501629  0.762422  0.672833   \n",
       "LDA                   0.69697       0.570248  0.838509  0.735411   \n",
       "\n",
       "           Precision Macro Recall Macro  \n",
       "KNN-15             0.61418     0.715504  \n",
       "LogReg-0.1        0.659867     0.768705  \n",
       "LDA               0.711319     0.780595  "
      ]
     },
     "execution_count": 1688,
     "metadata": {},
     "output_type": "execute_result"
    }
   ],
   "source": [
    "# Retrieve the k value of the first row\n",
    "first_row = sorted_results_logreg.iloc[0]\n",
    "c_value = first_row.name[1]\n",
    "\n",
    "print(\"c value of the first row:\", c_value)\n",
    "\n",
    "logreg = LogisticRegression(C=c_value, max_iter=1000).fit(X_train,y_train)\n",
    "y_pred_logreg = logreg.predict(X_val)\n",
    "results_df.loc['LogReg-'+str(c_value), :] = compute_metrics(y_val, y_pred_logreg)\n",
    "\n",
    "results_df.sort_values(by='**Recall class 1**', ascending=False)"
   ]
  },
  {
   "cell_type": "code",
   "execution_count": 1689,
   "metadata": {},
   "outputs": [
    {
     "data": {
      "text/html": [
       "<div>\n",
       "<style scoped>\n",
       "    .dataframe tbody tr th:only-of-type {\n",
       "        vertical-align: middle;\n",
       "    }\n",
       "\n",
       "    .dataframe tbody tr th {\n",
       "        vertical-align: top;\n",
       "    }\n",
       "\n",
       "    .dataframe thead th {\n",
       "        text-align: right;\n",
       "    }\n",
       "</style>\n",
       "<table border=\"1\" class=\"dataframe\">\n",
       "  <thead>\n",
       "    <tr style=\"text-align: right;\">\n",
       "      <th>predicted</th>\n",
       "      <th>0</th>\n",
       "      <th>1</th>\n",
       "    </tr>\n",
       "    <tr>\n",
       "      <th>target</th>\n",
       "      <th></th>\n",
       "      <th></th>\n",
       "    </tr>\n",
       "  </thead>\n",
       "  <tbody>\n",
       "    <tr>\n",
       "      <th>0</th>\n",
       "      <td>414</td>\n",
       "      <td>131</td>\n",
       "    </tr>\n",
       "    <tr>\n",
       "      <th>1</th>\n",
       "      <td>22</td>\n",
       "      <td>77</td>\n",
       "    </tr>\n",
       "  </tbody>\n",
       "</table>\n",
       "</div>"
      ],
      "text/plain": [
       "predicted    0    1\n",
       "target             \n",
       "0          414  131\n",
       "1           22   77"
      ]
     },
     "execution_count": 1689,
     "metadata": {},
     "output_type": "execute_result"
    }
   ],
   "source": [
    "# Confusion matrix\n",
    "confusion(y_val, y_pred_logreg)"
   ]
  },
  {
   "attachments": {},
   "cell_type": "markdown",
   "metadata": {},
   "source": [
    "## Random Forest"
   ]
  },
  {
   "cell_type": "code",
   "execution_count": 1690,
   "metadata": {},
   "outputs": [
    {
     "name": "stdout",
     "output_type": "stream",
     "text": [
      "Best Parameters: {'max_depth': None, 'min_samples_split': 2, 'n_estimators': 100}\n",
      "Best Score: 0.9784823029731005\n"
     ]
    }
   ],
   "source": [
    "# Define the parameter grid for GridSearchCV\n",
    "param_grid = {\n",
    "    'n_estimators': [100, 300, 500],  # Number of trees in the forest\n",
    "    'max_depth': [None, 5, 10],       # Maximum depth of each tree\n",
    "    'min_samples_split': [2, 5, 10]   # Minimum number of samples required to split an internal node\n",
    "}\n",
    "\n",
    "# Create a Random Forest classifier\n",
    "rf_classifier = RandomForestClassifier(random_state=42)\n",
    "\n",
    "# Create the GridSearchCV object\n",
    "grid_search = GridSearchCV(estimator=rf_classifier, \n",
    "                           param_grid=param_grid, \n",
    "                           scoring=['recall', 'f1','accuracy', 'f1_macro', 'precision_macro', 'recall_macro'],\n",
    "                           cv=5,\n",
    "                           refit='recall')\n",
    "\n",
    "# Fit the GridSearchCV object to the data\n",
    "grid_search.fit(X_train, y_train)\n",
    "\n",
    "# Print the best parameters found by GridSearchCV\n",
    "print(\"Best Parameters:\", grid_search.best_params_)\n",
    "\n",
    "# Print the best score found by GridSearchCV\n",
    "print(\"Best Score:\", grid_search.best_score_)\n",
    "\n",
    "# Get the best model found by GridSearchCV\n",
    "best_rfmodel = grid_search.best_estimator_\n"
   ]
  },
  {
   "cell_type": "code",
   "execution_count": 1691,
   "metadata": {},
   "outputs": [
    {
     "ename": "KeyError",
     "evalue": "'Recall'",
     "output_type": "error",
     "traceback": [
      "\u001b[1;31m---------------------------------------------------------------------------\u001b[0m",
      "\u001b[1;31mKeyError\u001b[0m                                  Traceback (most recent call last)",
      "Cell \u001b[1;32mIn[1691], line 4\u001b[0m\n\u001b[0;32m      1\u001b[0m y_pred_rf \u001b[39m=\u001b[39m best_rfmodel\u001b[39m.\u001b[39mpredict(X_val)\n\u001b[0;32m      2\u001b[0m results_df\u001b[39m.\u001b[39mloc[\u001b[39m'\u001b[39m\u001b[39mRandom Forest\u001b[39m\u001b[39m'\u001b[39m, :] \u001b[39m=\u001b[39m compute_metrics(y_val, y_pred_rf)\n\u001b[1;32m----> 4\u001b[0m results_df\u001b[39m.\u001b[39;49msort_values(by\u001b[39m=\u001b[39;49m\u001b[39m'\u001b[39;49m\u001b[39mRecall\u001b[39;49m\u001b[39m'\u001b[39;49m, ascending\u001b[39m=\u001b[39;49m\u001b[39mFalse\u001b[39;49;00m)\n",
      "File \u001b[1;32m~\\AppData\\Roaming\\Python\\Python311\\site-packages\\pandas\\util\\_decorators.py:331\u001b[0m, in \u001b[0;36mdeprecate_nonkeyword_arguments.<locals>.decorate.<locals>.wrapper\u001b[1;34m(*args, **kwargs)\u001b[0m\n\u001b[0;32m    325\u001b[0m \u001b[39mif\u001b[39;00m \u001b[39mlen\u001b[39m(args) \u001b[39m>\u001b[39m num_allow_args:\n\u001b[0;32m    326\u001b[0m     warnings\u001b[39m.\u001b[39mwarn(\n\u001b[0;32m    327\u001b[0m         msg\u001b[39m.\u001b[39mformat(arguments\u001b[39m=\u001b[39m_format_argument_list(allow_args)),\n\u001b[0;32m    328\u001b[0m         \u001b[39mFutureWarning\u001b[39;00m,\n\u001b[0;32m    329\u001b[0m         stacklevel\u001b[39m=\u001b[39mfind_stack_level(),\n\u001b[0;32m    330\u001b[0m     )\n\u001b[1;32m--> 331\u001b[0m \u001b[39mreturn\u001b[39;00m func(\u001b[39m*\u001b[39;49margs, \u001b[39m*\u001b[39;49m\u001b[39m*\u001b[39;49mkwargs)\n",
      "File \u001b[1;32m~\\AppData\\Roaming\\Python\\Python311\\site-packages\\pandas\\core\\frame.py:6912\u001b[0m, in \u001b[0;36mDataFrame.sort_values\u001b[1;34m(self, by, axis, ascending, inplace, kind, na_position, ignore_index, key)\u001b[0m\n\u001b[0;32m   6908\u001b[0m \u001b[39melif\u001b[39;00m \u001b[39mlen\u001b[39m(by):\n\u001b[0;32m   6909\u001b[0m     \u001b[39m# len(by) == 1\u001b[39;00m\n\u001b[0;32m   6911\u001b[0m     by \u001b[39m=\u001b[39m by[\u001b[39m0\u001b[39m]\n\u001b[1;32m-> 6912\u001b[0m     k \u001b[39m=\u001b[39m \u001b[39mself\u001b[39;49m\u001b[39m.\u001b[39;49m_get_label_or_level_values(by, axis\u001b[39m=\u001b[39;49maxis)\n\u001b[0;32m   6914\u001b[0m     \u001b[39m# need to rewrap column in Series to apply key function\u001b[39;00m\n\u001b[0;32m   6915\u001b[0m     \u001b[39mif\u001b[39;00m key \u001b[39mis\u001b[39;00m \u001b[39mnot\u001b[39;00m \u001b[39mNone\u001b[39;00m:\n\u001b[0;32m   6916\u001b[0m         \u001b[39m# error: Incompatible types in assignment (expression has type\u001b[39;00m\n\u001b[0;32m   6917\u001b[0m         \u001b[39m# \"Series\", variable has type \"ndarray\")\u001b[39;00m\n",
      "File \u001b[1;32m~\\AppData\\Roaming\\Python\\Python311\\site-packages\\pandas\\core\\generic.py:1850\u001b[0m, in \u001b[0;36mNDFrame._get_label_or_level_values\u001b[1;34m(self, key, axis)\u001b[0m\n\u001b[0;32m   1844\u001b[0m     values \u001b[39m=\u001b[39m (\n\u001b[0;32m   1845\u001b[0m         \u001b[39mself\u001b[39m\u001b[39m.\u001b[39maxes[axis]\n\u001b[0;32m   1846\u001b[0m         \u001b[39m.\u001b[39mget_level_values(key)  \u001b[39m# type: ignore[assignment]\u001b[39;00m\n\u001b[0;32m   1847\u001b[0m         \u001b[39m.\u001b[39m_values\n\u001b[0;32m   1848\u001b[0m     )\n\u001b[0;32m   1849\u001b[0m \u001b[39melse\u001b[39;00m:\n\u001b[1;32m-> 1850\u001b[0m     \u001b[39mraise\u001b[39;00m \u001b[39mKeyError\u001b[39;00m(key)\n\u001b[0;32m   1852\u001b[0m \u001b[39m# Check for duplicates\u001b[39;00m\n\u001b[0;32m   1853\u001b[0m \u001b[39mif\u001b[39;00m values\u001b[39m.\u001b[39mndim \u001b[39m>\u001b[39m \u001b[39m1\u001b[39m:\n",
      "\u001b[1;31mKeyError\u001b[0m: 'Recall'"
     ]
    }
   ],
   "source": [
    "y_pred_rf = best_rfmodel.predict(X_val)\n",
    "results_df.loc['Random Forest', :] = compute_metrics(y_val, y_pred_rf)\n",
    "\n",
    "results_df.sort_values(by='**Recall class 1**', ascending=False)"
   ]
  },
  {
   "cell_type": "code",
   "execution_count": null,
   "metadata": {},
   "outputs": [
    {
     "data": {
      "text/html": [
       "<div>\n",
       "<style scoped>\n",
       "    .dataframe tbody tr th:only-of-type {\n",
       "        vertical-align: middle;\n",
       "    }\n",
       "\n",
       "    .dataframe tbody tr th {\n",
       "        vertical-align: top;\n",
       "    }\n",
       "\n",
       "    .dataframe thead th {\n",
       "        text-align: right;\n",
       "    }\n",
       "</style>\n",
       "<table border=\"1\" class=\"dataframe\">\n",
       "  <thead>\n",
       "    <tr style=\"text-align: right;\">\n",
       "      <th>predicted</th>\n",
       "      <th>0</th>\n",
       "      <th>1</th>\n",
       "    </tr>\n",
       "    <tr>\n",
       "      <th>target</th>\n",
       "      <th></th>\n",
       "      <th></th>\n",
       "    </tr>\n",
       "  </thead>\n",
       "  <tbody>\n",
       "    <tr>\n",
       "      <th>0</th>\n",
       "      <td>450</td>\n",
       "      <td>95</td>\n",
       "    </tr>\n",
       "    <tr>\n",
       "      <th>1</th>\n",
       "      <td>29</td>\n",
       "      <td>70</td>\n",
       "    </tr>\n",
       "  </tbody>\n",
       "</table>\n",
       "</div>"
      ],
      "text/plain": [
       "predicted    0   1\n",
       "target            \n",
       "0          450  95\n",
       "1           29  70"
      ]
     },
     "execution_count": 1200,
     "metadata": {},
     "output_type": "execute_result"
    }
   ],
   "source": [
    "# Confusion matrix\n",
    "confusion(y_val, y_pred_rf)"
   ]
  },
  {
   "attachments": {},
   "cell_type": "markdown",
   "metadata": {},
   "source": [
    "## Feature Importance"
   ]
  },
  {
   "cell_type": "code",
   "execution_count": null,
   "metadata": {},
   "outputs": [
    {
     "data": {
      "text/plain": [
       "<Axes: >"
      ]
     },
     "execution_count": 1201,
     "metadata": {},
     "output_type": "execute_result"
    },
    {
     "data": {
      "image/png": "[encoded data removed]",
      "text/plain": [
       "<Figure size 800x800 with 1 Axes>"
      ]
     },
     "metadata": {},
     "output_type": "display_data"
    }
   ],
   "source": [
    "var_imp = pd.DataFrame({'importance': best_rfmodel.feature_importances_},\n",
    "                       index=X_train.columns)\n",
    "\n",
    "var_imp.sort_values(by='importance').plot.barh(figsize=(8,8),\n",
    "                                               legend=False)"
   ]
  },
  {
   "attachments": {},
   "cell_type": "markdown",
   "metadata": {},
   "source": [
    "## Gaussian NB"
   ]
  },
  {
   "cell_type": "code",
   "execution_count": null,
   "metadata": {},
   "outputs": [
    {
     "data": {
      "text/html": [
       "<div>\n",
       "<style scoped>\n",
       "    .dataframe tbody tr th:only-of-type {\n",
       "        vertical-align: middle;\n",
       "    }\n",
       "\n",
       "    .dataframe tbody tr th {\n",
       "        vertical-align: top;\n",
       "    }\n",
       "\n",
       "    .dataframe thead th {\n",
       "        text-align: right;\n",
       "    }\n",
       "</style>\n",
       "<table border=\"1\" class=\"dataframe\">\n",
       "  <thead>\n",
       "    <tr style=\"text-align: right;\">\n",
       "      <th></th>\n",
       "      <th>Accuracy</th>\n",
       "      <th>F1</th>\n",
       "      <th>Precision</th>\n",
       "      <th>Recall</th>\n",
       "      <th>Jaccard</th>\n",
       "    </tr>\n",
       "  </thead>\n",
       "  <tbody>\n",
       "    <tr>\n",
       "      <th>LogReg-0.1</th>\n",
       "      <td>0.773292</td>\n",
       "      <td>0.516556</td>\n",
       "      <td>0.384236</td>\n",
       "      <td>0.787879</td>\n",
       "      <td>0.348214</td>\n",
       "    </tr>\n",
       "    <tr>\n",
       "      <th>Gaussian-NB</th>\n",
       "      <td>0.746894</td>\n",
       "      <td>0.485804</td>\n",
       "      <td>0.353211</td>\n",
       "      <td>0.777778</td>\n",
       "      <td>0.320833</td>\n",
       "    </tr>\n",
       "    <tr>\n",
       "      <th>KNN-11</th>\n",
       "      <td>0.667702</td>\n",
       "      <td>0.40884</td>\n",
       "      <td>0.281369</td>\n",
       "      <td>0.747475</td>\n",
       "      <td>0.256944</td>\n",
       "    </tr>\n",
       "    <tr>\n",
       "      <th>LDA</th>\n",
       "      <td>0.838509</td>\n",
       "      <td>0.566667</td>\n",
       "      <td>0.48227</td>\n",
       "      <td>0.686869</td>\n",
       "      <td>0.395349</td>\n",
       "    </tr>\n",
       "  </tbody>\n",
       "</table>\n",
       "</div>"
      ],
      "text/plain": [
       "             Accuracy        F1 Precision    Recall   Jaccard\n",
       "LogReg-0.1   0.773292  0.516556  0.384236  0.787879  0.348214\n",
       "Gaussian-NB  0.746894  0.485804  0.353211  0.777778  0.320833\n",
       "KNN-11       0.667702   0.40884  0.281369  0.747475  0.256944\n",
       "LDA          0.838509  0.566667   0.48227  0.686869  0.395349"
      ]
     },
     "execution_count": 1509,
     "metadata": {},
     "output_type": "execute_result"
    }
   ],
   "source": [
    "from sklearn.naive_bayes import GaussianNB\n",
    "\n",
    "\n",
    "gaussian_nb = GaussianNB()\n",
    "gaussian_nb = gaussian_nb.fit(X_train[numerical_cols],y_train)\n",
    "y_pred_gnb = gaussian_nb.predict(X_val[numerical_cols])\n",
    "\n",
    "results_df.loc['Gaussian-NB', :] = compute_metrics(y_val, y_pred_gnb)\n",
    "results_df.sort_values(by='**Recall class 1**', ascending=False)"
   ]
  },
  {
   "attachments": {},
   "cell_type": "markdown",
   "metadata": {},
   "source": [
    "## Neural Network"
   ]
  },
  {
   "cell_type": "code",
   "execution_count": null,
   "metadata": {},
   "outputs": [
    {
     "name": "stdout",
     "output_type": "stream",
     "text": [
      "6 [2, 4, [2, 2], [4, 4], [2, 2, 2], [4, 4, 4]]\n",
      "3 [0.01, 0.1, 1]\n"
     ]
    }
   ],
   "source": [
    "sizes = [2*i for i in range(1,3)]\n",
    "sizes = sizes + [[2*i,2*i] for i in range(1,3)]\n",
    "sizes = sizes + [[2*i,2*i, 2*i] for i in range(1,3)]\n",
    "\n",
    "print(len(sizes), sizes)\n",
    "\n",
    "\n",
    "decays = [0.01,0.1,1]\n",
    "print(len(decays), decays[:10])"
   ]
  },
  {
   "cell_type": "code",
   "execution_count": null,
   "metadata": {},
   "outputs": [
    {
     "name": "stderr",
     "output_type": "stream",
     "text": [
      "c:\\Users\\nikol\\AppData\\Local\\Programs\\Python\\Python311\\Lib\\site-packages\\sklearn\\neural_network\\_multilayer_perceptron.py:541: ConvergenceWarning:\n",
      "\n",
      "lbfgs failed to converge (status=1):\n",
      "STOP: TOTAL NO. of f AND g EVALUATIONS EXCEEDS LIMIT.\n",
      "\n",
      "Increase the number of iterations (max_iter) or scale the data as shown in:\n",
      "    https://scikit-learn.org/stable/modules/preprocessing.html\n",
      "\n",
      "c:\\Users\\nikol\\AppData\\Local\\Programs\\Python\\Python311\\Lib\\site-packages\\sklearn\\neural_network\\_multilayer_perceptron.py:541: ConvergenceWarning:\n",
      "\n",
      "lbfgs failed to converge (status=1):\n",
      "STOP: TOTAL NO. of f AND g EVALUATIONS EXCEEDS LIMIT.\n",
      "\n",
      "Increase the number of iterations (max_iter) or scale the data as shown in:\n",
      "    https://scikit-learn.org/stable/modules/preprocessing.html\n",
      "\n",
      "c:\\Users\\nikol\\AppData\\Local\\Programs\\Python\\Python311\\Lib\\site-packages\\sklearn\\neural_network\\_multilayer_perceptron.py:541: ConvergenceWarning:\n",
      "\n",
      "lbfgs failed to converge (status=1):\n",
      "STOP: TOTAL NO. of f AND g EVALUATIONS EXCEEDS LIMIT.\n",
      "\n",
      "Increase the number of iterations (max_iter) or scale the data as shown in:\n",
      "    https://scikit-learn.org/stable/modules/preprocessing.html\n",
      "\n"
     ]
    },
    {
     "name": "stdout",
     "output_type": "stream",
     "text": [
      "Best Parameters: {'alpha': 0.01, 'hidden_layer_sizes': [4, 4]}\n",
      "Best Score: 0.9476629105196828\n"
     ]
    }
   ],
   "source": [
    "from sklearn.neural_network import MLPClassifier\n",
    "\n",
    "\n",
    "model_nnet = MLPClassifier(hidden_layer_sizes=[2,2,2],\n",
    "                           alpha=0,\n",
    "                           activation='logistic',\n",
    "                           max_iter=1000000,\n",
    "                           solver='lbfgs',random_state=42)\n",
    "\n",
    "\n",
    "trc = GridSearchCV(estimator=model_nnet,\n",
    "                   scoring=['recall', 'f1','accuracy', 'f1_macro', 'precision_macro', 'recall_macro'],\n",
    "                   param_grid={'hidden_layer_sizes': sizes,\n",
    "                              'alpha': decays},\n",
    "                   cv=5,\n",
    "                   return_train_score=True,\n",
    "                   refit='recall')\n",
    "\n",
    "\n",
    "# Fit the GridSearchCV object to the data\n",
    "trc.fit(X_train, y_train)\n",
    "\n",
    "# Print the best parameters found by GridSearchCV\n",
    "print(\"Best Parameters:\", trc.best_params_)\n",
    "\n",
    "# Print the best score found by GridSearchCV\n",
    "print(\"Best Score:\", trc.best_score_)\n",
    "\n",
    "# Get the best model found by GridSearchCV\n",
    "best_mlpmodel = trc.best_estimator_"
   ]
  },
  {
   "cell_type": "code",
   "execution_count": null,
   "metadata": {},
   "outputs": [
    {
     "data": {
      "text/html": [
       "<div>\n",
       "<style scoped>\n",
       "    .dataframe tbody tr th:only-of-type {\n",
       "        vertical-align: middle;\n",
       "    }\n",
       "\n",
       "    .dataframe tbody tr th {\n",
       "        vertical-align: top;\n",
       "    }\n",
       "\n",
       "    .dataframe thead th {\n",
       "        text-align: right;\n",
       "    }\n",
       "</style>\n",
       "<table border=\"1\" class=\"dataframe\">\n",
       "  <thead>\n",
       "    <tr style=\"text-align: right;\">\n",
       "      <th></th>\n",
       "      <th>Accuracy</th>\n",
       "      <th>F1</th>\n",
       "      <th>Precision</th>\n",
       "      <th>Recall</th>\n",
       "      <th>Jaccard</th>\n",
       "    </tr>\n",
       "  </thead>\n",
       "  <tbody>\n",
       "    <tr>\n",
       "      <th>KNN-9</th>\n",
       "      <td>0.704969</td>\n",
       "      <td>0.450867</td>\n",
       "      <td>0.315789</td>\n",
       "      <td>0.787879</td>\n",
       "      <td>0.291045</td>\n",
       "    </tr>\n",
       "    <tr>\n",
       "      <th>LogReg-0.1</th>\n",
       "      <td>0.763975</td>\n",
       "      <td>0.506494</td>\n",
       "      <td>0.373206</td>\n",
       "      <td>0.787879</td>\n",
       "      <td>0.33913</td>\n",
       "    </tr>\n",
       "    <tr>\n",
       "      <th>Random Forest</th>\n",
       "      <td>0.807453</td>\n",
       "      <td>0.530303</td>\n",
       "      <td>0.424242</td>\n",
       "      <td>0.707071</td>\n",
       "      <td>0.360825</td>\n",
       "    </tr>\n",
       "    <tr>\n",
       "      <th>LDA</th>\n",
       "      <td>0.835404</td>\n",
       "      <td>0.561983</td>\n",
       "      <td>0.475524</td>\n",
       "      <td>0.686869</td>\n",
       "      <td>0.390805</td>\n",
       "    </tr>\n",
       "    <tr>\n",
       "      <th>MLP</th>\n",
       "      <td>0.774845</td>\n",
       "      <td>0.476534</td>\n",
       "      <td>0.370787</td>\n",
       "      <td>0.666667</td>\n",
       "      <td>0.312796</td>\n",
       "    </tr>\n",
       "  </tbody>\n",
       "</table>\n",
       "</div>"
      ],
      "text/plain": [
       "               Accuracy        F1 Precision    Recall   Jaccard\n",
       "KNN-9          0.704969  0.450867  0.315789  0.787879  0.291045\n",
       "LogReg-0.1     0.763975  0.506494  0.373206  0.787879   0.33913\n",
       "Random Forest  0.807453  0.530303  0.424242  0.707071  0.360825\n",
       "LDA            0.835404  0.561983  0.475524  0.686869  0.390805\n",
       "MLP            0.774845  0.476534  0.370787  0.666667  0.312796"
      ]
     },
     "execution_count": 1204,
     "metadata": {},
     "output_type": "execute_result"
    }
   ],
   "source": [
    "y_pred_mlp = best_mlpmodel.predict(X_val)\n",
    "results_df.loc['MLP', :] = compute_metrics(y_val, y_pred_mlp)\n",
    "\n",
    "results_df.sort_values(by='**Recall class 1**', ascending=False)"
   ]
  },
  {
   "cell_type": "code",
   "execution_count": null,
   "metadata": {},
   "outputs": [
    {
     "data": {
      "text/html": [
       "<div>\n",
       "<style scoped>\n",
       "    .dataframe tbody tr th:only-of-type {\n",
       "        vertical-align: middle;\n",
       "    }\n",
       "\n",
       "    .dataframe tbody tr th {\n",
       "        vertical-align: top;\n",
       "    }\n",
       "\n",
       "    .dataframe thead th {\n",
       "        text-align: right;\n",
       "    }\n",
       "</style>\n",
       "<table border=\"1\" class=\"dataframe\">\n",
       "  <thead>\n",
       "    <tr style=\"text-align: right;\">\n",
       "      <th>predicted</th>\n",
       "      <th>0</th>\n",
       "      <th>1</th>\n",
       "    </tr>\n",
       "    <tr>\n",
       "      <th>target</th>\n",
       "      <th></th>\n",
       "      <th></th>\n",
       "    </tr>\n",
       "  </thead>\n",
       "  <tbody>\n",
       "    <tr>\n",
       "      <th>0</th>\n",
       "      <td>433</td>\n",
       "      <td>112</td>\n",
       "    </tr>\n",
       "    <tr>\n",
       "      <th>1</th>\n",
       "      <td>33</td>\n",
       "      <td>66</td>\n",
       "    </tr>\n",
       "  </tbody>\n",
       "</table>\n",
       "</div>"
      ],
      "text/plain": [
       "predicted    0    1\n",
       "target             \n",
       "0          433  112\n",
       "1           33   66"
      ]
     },
     "execution_count": 1205,
     "metadata": {},
     "output_type": "execute_result"
    }
   ],
   "source": [
    "# Confusion Matrix\n",
    "confusion(y_val, y_pred_mlp)"
   ]
  },
  {
   "attachments": {},
   "cell_type": "markdown",
   "metadata": {},
   "source": [
    "## Ensemble"
   ]
  },
  {
   "cell_type": "code",
   "execution_count": null,
   "metadata": {},
   "outputs": [
    {
     "data": {
      "text/html": [
       "<div>\n",
       "<style scoped>\n",
       "    .dataframe tbody tr th:only-of-type {\n",
       "        vertical-align: middle;\n",
       "    }\n",
       "\n",
       "    .dataframe tbody tr th {\n",
       "        vertical-align: top;\n",
       "    }\n",
       "\n",
       "    .dataframe thead th {\n",
       "        text-align: right;\n",
       "    }\n",
       "</style>\n",
       "<table border=\"1\" class=\"dataframe\">\n",
       "  <thead>\n",
       "    <tr style=\"text-align: right;\">\n",
       "      <th></th>\n",
       "      <th>Accuracy</th>\n",
       "      <th>F1</th>\n",
       "      <th>Precision</th>\n",
       "      <th>Recall</th>\n",
       "      <th>Jaccard</th>\n",
       "    </tr>\n",
       "  </thead>\n",
       "  <tbody>\n",
       "    <tr>\n",
       "      <th>KNN-9</th>\n",
       "      <td>0.704969</td>\n",
       "      <td>0.450867</td>\n",
       "      <td>0.315789</td>\n",
       "      <td>0.787879</td>\n",
       "      <td>0.291045</td>\n",
       "    </tr>\n",
       "    <tr>\n",
       "      <th>LogReg-0.1</th>\n",
       "      <td>0.763975</td>\n",
       "      <td>0.506494</td>\n",
       "      <td>0.373206</td>\n",
       "      <td>0.787879</td>\n",
       "      <td>0.33913</td>\n",
       "    </tr>\n",
       "    <tr>\n",
       "      <th>Ensemble</th>\n",
       "      <td>0.767081</td>\n",
       "      <td>0.506579</td>\n",
       "      <td>0.37561</td>\n",
       "      <td>0.777778</td>\n",
       "      <td>0.339207</td>\n",
       "    </tr>\n",
       "    <tr>\n",
       "      <th>Random Forest</th>\n",
       "      <td>0.807453</td>\n",
       "      <td>0.530303</td>\n",
       "      <td>0.424242</td>\n",
       "      <td>0.707071</td>\n",
       "      <td>0.360825</td>\n",
       "    </tr>\n",
       "    <tr>\n",
       "      <th>LDA</th>\n",
       "      <td>0.835404</td>\n",
       "      <td>0.561983</td>\n",
       "      <td>0.475524</td>\n",
       "      <td>0.686869</td>\n",
       "      <td>0.390805</td>\n",
       "    </tr>\n",
       "    <tr>\n",
       "      <th>MLP</th>\n",
       "      <td>0.774845</td>\n",
       "      <td>0.476534</td>\n",
       "      <td>0.370787</td>\n",
       "      <td>0.666667</td>\n",
       "      <td>0.312796</td>\n",
       "    </tr>\n",
       "  </tbody>\n",
       "</table>\n",
       "</div>"
      ],
      "text/plain": [
       "               Accuracy        F1 Precision    Recall   Jaccard\n",
       "KNN-9          0.704969  0.450867  0.315789  0.787879  0.291045\n",
       "LogReg-0.1     0.763975  0.506494  0.373206  0.787879   0.33913\n",
       "Ensemble       0.767081  0.506579   0.37561  0.777778  0.339207\n",
       "Random Forest  0.807453  0.530303  0.424242  0.707071  0.360825\n",
       "LDA            0.835404  0.561983  0.475524  0.686869  0.390805\n",
       "MLP            0.774845  0.476534  0.370787  0.666667  0.312796"
      ]
     },
     "execution_count": 1206,
     "metadata": {},
     "output_type": "execute_result"
    }
   ],
   "source": [
    "from sklearn.ensemble import VotingClassifier\n",
    "\n",
    "\n",
    "voting_best = VotingClassifier([('logreg', logreg),\n",
    "                                ('knn', knn),\n",
    "                                ('rf', best_rfmodel)] ,voting='soft')\n",
    "voting_best.fit(X_train, y_train)\n",
    "\n",
    "y_pred = voting_best.predict(X_val)\n",
    "\n",
    "results_df.loc['Ensemble', :] = compute_metrics(y_val, y_pred)\n",
    "\n",
    "results_df.sort_values(by='**Recall class 1**', ascending=False)"
   ]
  },
  {
   "attachments": {},
   "cell_type": "markdown",
   "metadata": {},
   "source": [
    "## Generalization Performance"
   ]
  },
  {
   "cell_type": "code",
   "execution_count": null,
   "metadata": {},
   "outputs": [],
   "source": [
    "y_pred=logreg.predict(X_test)"
   ]
  },
  {
   "cell_type": "code",
   "execution_count": null,
   "metadata": {},
   "outputs": [
    {
     "name": "stdout",
     "output_type": "stream",
     "text": [
      "accuracy_score:  0.7552795031055901\n",
      "recall_score:  0.7398373983739838\n",
      "jaccard_score:  0.3159722222222222\n",
      "f1_score:  0.4802110817941953\n",
      "precision_score:  0.35546875\n"
     ]
    },
    {
     "data": {
      "application/vnd.plotly.v1+json": {
       "config": {
        "plotlyServerURL": "https://plot.ly"
       },
       "data": [
        {
         "coloraxis": "coloraxis",
         "hovertemplate": "Predicted Label: %{x}<br>Correct Label: %{y}<br>Value: %{z}<extra></extra>",
         "name": "0",
         "texttemplate": "%{z}",
         "type": "heatmap",
         "xaxis": "x",
         "yaxis": "y",
         "z": [
          [
           0.76,
           0.24
          ],
          [
           0.26,
           0.74
          ]
         ]
        }
       ],
       "layout": {
        "coloraxis": {
         "colorbar": {
          "title": {
           "text": "Value"
          }
         },
         "colorscale": [
          [
           0,
           "rgb(20,44,66)"
          ],
          [
           1,
           "rgb(90,179,244)"
          ]
         ]
        },
        "margin": {
         "t": 60
        },
        "template": {
         "data": {
          "bar": [
           {
            "error_x": {
             "color": "rgb(51,51,51)"
            },
            "error_y": {
             "color": "rgb(51,51,51)"
            },
            "marker": {
             "line": {
              "color": "rgb(237,237,237)",
              "width": 0.5
             },
             "pattern": {
              "fillmode": "overlay",
              "size": 10,
              "solidity": 0.2
             }
            },
            "type": "bar"
           }
          ],
          "barpolar": [
           {
            "marker": {
             "line": {
              "color": "rgb(237,237,237)",
              "width": 0.5
             },
             "pattern": {
              "fillmode": "overlay",
              "size": 10,
              "solidity": 0.2
             }
            },
            "type": "barpolar"
           }
          ],
          "carpet": [
           {
            "aaxis": {
             "endlinecolor": "rgb(51,51,51)",
             "gridcolor": "white",
             "linecolor": "white",
             "minorgridcolor": "white",
             "startlinecolor": "rgb(51,51,51)"
            },
            "baxis": {
             "endlinecolor": "rgb(51,51,51)",
             "gridcolor": "white",
             "linecolor": "white",
             "minorgridcolor": "white",
             "startlinecolor": "rgb(51,51,51)"
            },
            "type": "carpet"
           }
          ],
          "choropleth": [
           {
            "colorbar": {
             "outlinewidth": 0,
             "tickcolor": "rgb(237,237,237)",
             "ticklen": 6,
             "ticks": "inside"
            },
            "type": "choropleth"
           }
          ],
          "contour": [
           {
            "colorbar": {
             "outlinewidth": 0,
             "tickcolor": "rgb(237,237,237)",
             "ticklen": 6,
             "ticks": "inside"
            },
            "colorscale": [
             [
              0,
              "rgb(20,44,66)"
             ],
             [
              1,
              "rgb(90,179,244)"
             ]
            ],
            "type": "contour"
           }
          ],
          "contourcarpet": [
           {
            "colorbar": {
             "outlinewidth": 0,
             "tickcolor": "rgb(237,237,237)",
             "ticklen": 6,
             "ticks": "inside"
            },
            "type": "contourcarpet"
           }
          ],
          "heatmap": [
           {
            "colorbar": {
             "outlinewidth": 0,
             "tickcolor": "rgb(237,237,237)",
             "ticklen": 6,
             "ticks": "inside"
            },
            "colorscale": [
             [
              0,
              "rgb(20,44,66)"
             ],
             [
              1,
              "rgb(90,179,244)"
             ]
            ],
            "type": "heatmap"
           }
          ],
          "heatmapgl": [
           {
            "colorbar": {
             "outlinewidth": 0,
             "tickcolor": "rgb(237,237,237)",
             "ticklen": 6,
             "ticks": "inside"
            },
            "colorscale": [
             [
              0,
              "rgb(20,44,66)"
             ],
             [
              1,
              "rgb(90,179,244)"
             ]
            ],
            "type": "heatmapgl"
           }
          ],
          "histogram": [
           {
            "marker": {
             "pattern": {
              "fillmode": "overlay",
              "size": 10,
              "solidity": 0.2
             }
            },
            "type": "histogram"
           }
          ],
          "histogram2d": [
           {
            "colorbar": {
             "outlinewidth": 0,
             "tickcolor": "rgb(237,237,237)",
             "ticklen": 6,
             "ticks": "inside"
            },
            "colorscale": [
             [
              0,
              "rgb(20,44,66)"
             ],
             [
              1,
              "rgb(90,179,244)"
             ]
            ],
            "type": "histogram2d"
           }
          ],
          "histogram2dcontour": [
           {
            "colorbar": {
             "outlinewidth": 0,
             "tickcolor": "rgb(237,237,237)",
             "ticklen": 6,
             "ticks": "inside"
            },
            "colorscale": [
             [
              0,
              "rgb(20,44,66)"
             ],
             [
              1,
              "rgb(90,179,244)"
             ]
            ],
            "type": "histogram2dcontour"
           }
          ],
          "mesh3d": [
           {
            "colorbar": {
             "outlinewidth": 0,
             "tickcolor": "rgb(237,237,237)",
             "ticklen": 6,
             "ticks": "inside"
            },
            "type": "mesh3d"
           }
          ],
          "parcoords": [
           {
            "line": {
             "colorbar": {
              "outlinewidth": 0,
              "tickcolor": "rgb(237,237,237)",
              "ticklen": 6,
              "ticks": "inside"
             }
            },
            "type": "parcoords"
           }
          ],
          "pie": [
           {
            "automargin": true,
            "type": "pie"
           }
          ],
          "scatter": [
           {
            "fillpattern": {
             "fillmode": "overlay",
             "size": 10,
             "solidity": 0.2
            },
            "type": "scatter"
           }
          ],
          "scatter3d": [
           {
            "line": {
             "colorbar": {
              "outlinewidth": 0,
              "tickcolor": "rgb(237,237,237)",
              "ticklen": 6,
              "ticks": "inside"
             }
            },
            "marker": {
             "colorbar": {
              "outlinewidth": 0,
              "tickcolor": "rgb(237,237,237)",
              "ticklen": 6,
              "ticks": "inside"
             }
            },
            "type": "scatter3d"
           }
          ],
          "scattercarpet": [
           {
            "marker": {
             "colorbar": {
              "outlinewidth": 0,
              "tickcolor": "rgb(237,237,237)",
              "ticklen": 6,
              "ticks": "inside"
             }
            },
            "type": "scattercarpet"
           }
          ],
          "scattergeo": [
           {
            "marker": {
             "colorbar": {
              "outlinewidth": 0,
              "tickcolor": "rgb(237,237,237)",
              "ticklen": 6,
              "ticks": "inside"
             }
            },
            "type": "scattergeo"
           }
          ],
          "scattergl": [
           {
            "marker": {
             "colorbar": {
              "outlinewidth": 0,
              "tickcolor": "rgb(237,237,237)",
              "ticklen": 6,
              "ticks": "inside"
             }
            },
            "type": "scattergl"
           }
          ],
          "scattermapbox": [
           {
            "marker": {
             "colorbar": {
              "outlinewidth": 0,
              "tickcolor": "rgb(237,237,237)",
              "ticklen": 6,
              "ticks": "inside"
             }
            },
            "type": "scattermapbox"
           }
          ],
          "scatterpolar": [
           {
            "marker": {
             "colorbar": {
              "outlinewidth": 0,
              "tickcolor": "rgb(237,237,237)",
              "ticklen": 6,
              "ticks": "inside"
             }
            },
            "type": "scatterpolar"
           }
          ],
          "scatterpolargl": [
           {
            "marker": {
             "colorbar": {
              "outlinewidth": 0,
              "tickcolor": "rgb(237,237,237)",
              "ticklen": 6,
              "ticks": "inside"
             }
            },
            "type": "scatterpolargl"
           }
          ],
          "scatterternary": [
           {
            "marker": {
             "colorbar": {
              "outlinewidth": 0,
              "tickcolor": "rgb(237,237,237)",
              "ticklen": 6,
              "ticks": "inside"
             }
            },
            "type": "scatterternary"
           }
          ],
          "surface": [
           {
            "colorbar": {
             "outlinewidth": 0,
             "tickcolor": "rgb(237,237,237)",
             "ticklen": 6,
             "ticks": "inside"
            },
            "colorscale": [
             [
              0,
              "rgb(20,44,66)"
             ],
             [
              1,
              "rgb(90,179,244)"
             ]
            ],
            "type": "surface"
           }
          ],
          "table": [
           {
            "cells": {
             "fill": {
              "color": "rgb(237,237,237)"
             },
             "line": {
              "color": "white"
             }
            },
            "header": {
             "fill": {
              "color": "rgb(217,217,217)"
             },
             "line": {
              "color": "white"
             }
            },
            "type": "table"
           }
          ]
         },
         "layout": {
          "annotationdefaults": {
           "arrowhead": 0,
           "arrowwidth": 1
          },
          "autotypenumbers": "strict",
          "coloraxis": {
           "colorbar": {
            "outlinewidth": 0,
            "tickcolor": "rgb(237,237,237)",
            "ticklen": 6,
            "ticks": "inside"
           }
          },
          "colorscale": {
           "sequential": [
            [
             0,
             "rgb(20,44,66)"
            ],
            [
             1,
             "rgb(90,179,244)"
            ]
           ],
           "sequentialminus": [
            [
             0,
             "rgb(20,44,66)"
            ],
            [
             1,
             "rgb(90,179,244)"
            ]
           ]
          },
          "colorway": [
           "#F8766D",
           "#A3A500",
           "#00BF7D",
           "#00B0F6",
           "#E76BF3"
          ],
          "font": {
           "color": "rgb(51,51,51)"
          },
          "geo": {
           "bgcolor": "white",
           "lakecolor": "white",
           "landcolor": "rgb(237,237,237)",
           "showlakes": true,
           "showland": true,
           "subunitcolor": "white"
          },
          "hoverlabel": {
           "align": "left"
          },
          "hovermode": "closest",
          "paper_bgcolor": "white",
          "plot_bgcolor": "rgb(237,237,237)",
          "polar": {
           "angularaxis": {
            "gridcolor": "white",
            "linecolor": "white",
            "showgrid": true,
            "tickcolor": "rgb(51,51,51)",
            "ticks": "outside"
           },
           "bgcolor": "rgb(237,237,237)",
           "radialaxis": {
            "gridcolor": "white",
            "linecolor": "white",
            "showgrid": true,
            "tickcolor": "rgb(51,51,51)",
            "ticks": "outside"
           }
          },
          "scene": {
           "xaxis": {
            "backgroundcolor": "rgb(237,237,237)",
            "gridcolor": "white",
            "gridwidth": 2,
            "linecolor": "white",
            "showbackground": true,
            "showgrid": true,
            "tickcolor": "rgb(51,51,51)",
            "ticks": "outside",
            "zerolinecolor": "white"
           },
           "yaxis": {
            "backgroundcolor": "rgb(237,237,237)",
            "gridcolor": "white",
            "gridwidth": 2,
            "linecolor": "white",
            "showbackground": true,
            "showgrid": true,
            "tickcolor": "rgb(51,51,51)",
            "ticks": "outside",
            "zerolinecolor": "white"
           },
           "zaxis": {
            "backgroundcolor": "rgb(237,237,237)",
            "gridcolor": "white",
            "gridwidth": 2,
            "linecolor": "white",
            "showbackground": true,
            "showgrid": true,
            "tickcolor": "rgb(51,51,51)",
            "ticks": "outside",
            "zerolinecolor": "white"
           }
          },
          "shapedefaults": {
           "fillcolor": "black",
           "line": {
            "width": 0
           },
           "opacity": 0.3
          },
          "ternary": {
           "aaxis": {
            "gridcolor": "white",
            "linecolor": "white",
            "showgrid": true,
            "tickcolor": "rgb(51,51,51)",
            "ticks": "outside"
           },
           "baxis": {
            "gridcolor": "white",
            "linecolor": "white",
            "showgrid": true,
            "tickcolor": "rgb(51,51,51)",
            "ticks": "outside"
           },
           "bgcolor": "rgb(237,237,237)",
           "caxis": {
            "gridcolor": "white",
            "linecolor": "white",
            "showgrid": true,
            "tickcolor": "rgb(51,51,51)",
            "ticks": "outside"
           }
          },
          "xaxis": {
           "automargin": true,
           "gridcolor": "white",
           "linecolor": "white",
           "showgrid": true,
           "tickcolor": "rgb(51,51,51)",
           "ticks": "outside",
           "title": {
            "standoff": 15
           },
           "zerolinecolor": "white"
          },
          "yaxis": {
           "automargin": true,
           "gridcolor": "white",
           "linecolor": "white",
           "showgrid": true,
           "tickcolor": "rgb(51,51,51)",
           "ticks": "outside",
           "title": {
            "standoff": 15
           },
           "zerolinecolor": "white"
          }
         }
        },
        "xaxis": {
         "anchor": "y",
         "domain": [
          0,
          1
         ],
         "side": "bottom",
         "title": {
          "text": "Predicted Label"
         }
        },
        "yaxis": {
         "anchor": "x",
         "autorange": "reversed",
         "domain": [
          0,
          1
         ],
         "title": {
          "text": "Correct Label"
         }
        }
       }
      }
     },
     "metadata": {},
     "output_type": "display_data"
    }
   ],
   "source": [
    "print('accuracy_score: ',accuracy_score(y_test,y_pred))\n",
    "print('recall_score: ',recall_score(y_test,y_pred))\n",
    "print('jaccard_score: ',jaccard_score(y_test,y_pred))\n",
    "print('f1_score: ',f1_score(y_test,y_pred))\n",
    "print('precision_score: ',precision_score(y_test,y_pred))\n",
    "\n",
    "fig = px.imshow(np.around(confusion_matrix(y_test, y_pred, normalize='true'),2), \n",
    "                template='ggplot2',\n",
    "                text_auto=True, \n",
    "                aspect=\"True\", \n",
    "                labels=dict(x=\"Predicted Label\", y=\"Correct Label\", color='Value'))\n",
    "fig.update_xaxes(side=\"bottom\")\n",
    "fig.show()"
   ]
  }
 ],
 "metadata": {
  "kernelspec": {
   "display_name": "Python 3",
   "language": "python",
   "name": "python3"
  },
  "language_info": {
   "codemirror_mode": {
    "name": "ipython",
    "version": 3
   },
   "file_extension": ".py",
   "mimetype": "text/x-python",
   "name": "python",
   "nbconvert_exporter": "python",
   "pygments_lexer": "ipython3",
   "version": "3.11.1"
  },
  "orig_nbformat": 4
 },
 "nbformat": 4,
 "nbformat_minor": 2
}
